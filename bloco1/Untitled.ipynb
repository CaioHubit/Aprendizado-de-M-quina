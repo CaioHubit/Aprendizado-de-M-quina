{
 "cells": [
  {
   "cell_type": "code",
   "execution_count": 1,
   "id": "afd4cd54-dec6-41ce-824e-98fac19e18e1",
   "metadata": {},
   "outputs": [],
   "source": [
    "ativo1=[ 1.36, 1.50, 1.85, 1.64, 1.32,\n",
    "1.61,\n",
    "1.00,\n",
    "1.06,\n",
    "1.08,\n",
    "1.38,\n",
    "1.71,\n",
    "1.15,\n",
    "1.65,\n",
    "1.18,\n",
    "1.36,\n",
    "1.39,\n",
    "1.82,\n",
    "1.97,\n",
    "1.91,\n",
    "1.24,\n",
    "1.70,\n",
    "1.93,\n",
    "1.36,\n",
    "1.58,\n",
    "1.25,\n",
    "1.79,\n",
    "1.68,\n",
    "1.11,\n",
    "1.62,\n",
    "1.44]\n",
    "\n",
    "ativo2= [1.29, 1.63, 2.00, 1.68, 1.34,\n",
    "1.72,\n",
    "0.89,\n",
    "1.03,\n",
    "1.11,\n",
    "1.38,\n",
    "1.75,\n",
    "1.15,\n",
    "1.59,\n",
    "1.36,\n",
    "1.54,\n",
    "1.56,\n",
    "1.99,\n",
    "2.12,\n",
    "1.85,\n",
    "1.16,\n",
    "1.60,\n",
    "2.11,\n",
    "1.52,\n",
    "1.77,\n",
    "1.45,\n",
    "1.85,\n",
    "1.65,\n",
    "0.98,\n",
    "1.63,\n",
    "1.35]"
   ]
  },
  {
   "cell_type": "code",
   "execution_count": 4,
   "id": "fdc420e8-32b4-439b-aa8b-7907530d0758",
   "metadata": {},
   "outputs": [
    {
     "data": {
      "text/plain": [
       "array([[0.07994759, 0.08813448],\n",
       "       [0.08813448, 0.10804655]])"
      ]
     },
     "execution_count": 4,
     "metadata": {},
     "output_type": "execute_result"
    }
   ],
   "source": [
    "import numpy as numpy\n",
    "numpy.cov(ativo1,ativo2)"
   ]
  },
  {
   "cell_type": "code",
   "execution_count": null,
   "id": "0b8d6a78-2bdd-4fc8-af0f-3f938df9f203",
   "metadata": {},
   "outputs": [],
   "source": []
  }
 ],
 "metadata": {
  "kernelspec": {
   "display_name": "ilumpy",
   "language": "python",
   "name": "ilumpy"
  },
  "language_info": {
   "codemirror_mode": {
    "name": "ipython",
    "version": 3
   },
   "file_extension": ".py",
   "mimetype": "text/x-python",
   "name": "python",
   "nbconvert_exporter": "python",
   "pygments_lexer": "ipython3",
   "version": "3.9.7"
  }
 },
 "nbformat": 4,
 "nbformat_minor": 5
}
