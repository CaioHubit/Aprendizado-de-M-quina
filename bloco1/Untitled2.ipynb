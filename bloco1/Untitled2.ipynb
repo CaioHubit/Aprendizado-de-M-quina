{
 "cells": [
  {
   "cell_type": "code",
   "execution_count": 8,
   "id": "9f4729ec-dd1f-4603-aa17-728647965b09",
   "metadata": {},
   "outputs": [
    {
     "data": {
      "text/plain": [
       "(array([14.,  1.]),\n",
       " array([[ 0.83205029, -0.5547002 ],\n",
       "        [ 0.5547002 ,  0.83205029]]))"
      ]
     },
     "execution_count": 8,
     "metadata": {},
     "output_type": "execute_result"
    }
   ],
   "source": [
    "import numpy as np\n",
    "A = [[10,6],[6,5]]\n",
    "np.array(A)\n",
    "np.linalg.eig(A)"
   ]
  },
  {
   "cell_type": "code",
   "execution_count": 10,
   "id": "b9b277eb-d07e-4376-ad9b-00887b134d15",
   "metadata": {},
   "outputs": [
    {
     "data": {
      "text/plain": [
       "(array([[-0.83205029, -0.5547002 ],\n",
       "        [-0.5547002 ,  0.83205029]]),\n",
       " array([3.74165739, 1.        ]),\n",
       " array([[-1.48249863e-01, -2.22374795e-01, -9.63624112e-01],\n",
       "        [ 8.32050294e-01, -5.54700196e-01, -8.32667268e-17],\n",
       "        [-5.34522484e-01, -8.01783726e-01,  2.67261242e-01]]))"
      ]
     },
     "execution_count": 10,
     "metadata": {},
     "output_type": "execute_result"
    }
   ],
   "source": [
    "A2 = [[0,1,3],[1,0,2]]\n",
    "np.array(A2)\n",
    "np.linalg.svd(A2)"
   ]
  },
  {
   "cell_type": "code",
   "execution_count": 5,
   "id": "0961ec69-d247-42a9-aa19-ab8bb282daa7",
   "metadata": {},
   "outputs": [
    {
     "name": "stdout",
     "output_type": "stream",
     "text": [
      "0 -1.0 -1.0\n"
     ]
    }
   ],
   "source": [
    "a = 1\n",
    "b = 2\n",
    "c = 1\n",
    "\n",
    "delta = (b*b) - (4*a*c)\n",
    "bhaskara1 = (-b + ((delta)**(1/2)))/2*a\n",
    "bhaskara2 = (-b - ((delta)**(1/2)))/2*a\n",
    "print(delta,bhaskara1, bhaskara2)"
   ]
  },
  {
   "cell_type": "code",
   "execution_count": null,
   "id": "4a232452-77cf-4444-9065-09a31136f3ec",
   "metadata": {},
   "outputs": [],
   "source": []
  }
 ],
 "metadata": {
  "kernelspec": {
   "display_name": "ilumpy",
   "language": "python",
   "name": "ilumpy"
  },
  "language_info": {
   "codemirror_mode": {
    "name": "ipython",
    "version": 3
   },
   "file_extension": ".py",
   "mimetype": "text/x-python",
   "name": "python",
   "nbconvert_exporter": "python",
   "pygments_lexer": "ipython3",
   "version": "3.9.7"
  }
 },
 "nbformat": 4,
 "nbformat_minor": 5
}
