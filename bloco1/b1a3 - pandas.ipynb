{
 "cells": [
  {
   "cell_type": "markdown",
   "metadata": {},
   "source": [
    "Pandas\n",
    "======\n",
    "\n"
   ]
  },
  {
   "cell_type": "markdown",
   "metadata": {},
   "source": [
    "## DataFrame\n",
    "\n"
   ]
  },
  {
   "cell_type": "markdown",
   "metadata": {},
   "source": [
    "Neste estudo guiado vamos usar um conjunto de dados chamado *diamonds*. Para carregar ele vamos usar a biblioteca `seaborn` que vem com alguns datasets &ldquo;de fábrica&rdquo;. Para checar os nomes de outros datasets do `seaborn` rode o comando `print(sns.get_dataset_names())`. Só por curiosidade, este conjunto de dados que usaremos foi disponibilizado pela Tiffany & Co e são dados de 2017.\n",
    "\n"
   ]
  },
  {
   "cell_type": "code",
   "execution_count": 1,
   "metadata": {},
   "outputs": [
    {
     "name": "stdout",
     "output_type": "stream",
     "text": [
      "       carat        cut color clarity  depth  table  price     x     y     z\n",
      "0       0.23      Ideal     E     SI2   61.5   55.0    326  3.95  3.98  2.43\n",
      "1       0.21    Premium     E     SI1   59.8   61.0    326  3.89  3.84  2.31\n",
      "2       0.23       Good     E     VS1   56.9   65.0    327  4.05  4.07  2.31\n",
      "3       0.29    Premium     I     VS2   62.4   58.0    334  4.20  4.23  2.63\n",
      "4       0.31       Good     J     SI2   63.3   58.0    335  4.34  4.35  2.75\n",
      "...      ...        ...   ...     ...    ...    ...    ...   ...   ...   ...\n",
      "53935   0.72      Ideal     D     SI1   60.8   57.0   2757  5.75  5.76  3.50\n",
      "53936   0.72       Good     D     SI1   63.1   55.0   2757  5.69  5.75  3.61\n",
      "53937   0.70  Very Good     D     SI1   62.8   60.0   2757  5.66  5.68  3.56\n",
      "53938   0.86    Premium     H     SI2   61.0   58.0   2757  6.15  6.12  3.74\n",
      "53939   0.75      Ideal     D     SI2   62.2   55.0   2757  5.83  5.87  3.64\n",
      "\n",
      "[53940 rows x 10 columns]\n"
     ]
    }
   ],
   "source": [
    "import seaborn as sns\n",
    "\n",
    "df = sns.load_dataset('diamonds')\n",
    "print(df)"
   ]
  },
  {
   "cell_type": "code",
   "execution_count": null,
   "metadata": {},
   "outputs": [],
   "source": []
  },
  {
   "cell_type": "markdown",
   "metadata": {},
   "source": [
    "Qual é o tamanho desse dataset? Podemos checar investigando o atributo `shape`. Lembre-se que a ordem de apresentação de vetores é (linha, coluna). Logo vemos que nosso DataFrame tem 53940 linhas e 10 colunas.\n",
    "\n"
   ]
  },
  {
   "cell_type": "code",
   "execution_count": 2,
   "metadata": {},
   "outputs": [
    {
     "name": "stdout",
     "output_type": "stream",
     "text": [
      "(53940, 10)\n"
     ]
    }
   ],
   "source": [
    "print(df.shape)"
   ]
  },
  {
   "cell_type": "markdown",
   "metadata": {},
   "source": [
    "É sempre uma boa prática checar os tipos dos dados antes de seguir em frente. Neste caso, não observamos nada que pareça ser um problema.\n",
    "\n"
   ]
  },
  {
   "cell_type": "code",
   "execution_count": 3,
   "metadata": {},
   "outputs": [
    {
     "name": "stdout",
     "output_type": "stream",
     "text": [
      "carat       float64\n",
      "cut        category\n",
      "color      category\n",
      "clarity    category\n",
      "depth       float64\n",
      "table       float64\n",
      "price         int64\n",
      "x           float64\n",
      "y           float64\n",
      "z           float64\n",
      "dtype: object\n"
     ]
    }
   ],
   "source": [
    "print(df.dtypes)"
   ]
  },
  {
   "cell_type": "markdown",
   "metadata": {},
   "source": [
    "Uma boa prática inicial quando se tem um dataset novo é computar a estatística descritiva dos dados. Uma forma simples e rápida de se fazer isso é com o método `describe`.\n",
    "\n"
   ]
  },
  {
   "cell_type": "code",
   "execution_count": 4,
   "metadata": {},
   "outputs": [
    {
     "name": "stdout",
     "output_type": "stream",
     "text": [
      "              carat         depth         table         price             x  \\\n",
      "count  53940.000000  53940.000000  53940.000000  53940.000000  53940.000000   \n",
      "mean       0.797940     61.749405     57.457184   3932.799722      5.731157   \n",
      "std        0.474011      1.432621      2.234491   3989.439738      1.121761   \n",
      "min        0.200000     43.000000     43.000000    326.000000      0.000000   \n",
      "25%        0.400000     61.000000     56.000000    950.000000      4.710000   \n",
      "50%        0.700000     61.800000     57.000000   2401.000000      5.700000   \n",
      "75%        1.040000     62.500000     59.000000   5324.250000      6.540000   \n",
      "max        5.010000     79.000000     95.000000  18823.000000     10.740000   \n",
      "\n",
      "                  y             z  \n",
      "count  53940.000000  53940.000000  \n",
      "mean       5.734526      3.538734  \n",
      "std        1.142135      0.705699  \n",
      "min        0.000000      0.000000  \n",
      "25%        4.720000      2.910000  \n",
      "50%        5.710000      3.530000  \n",
      "75%        6.540000      4.040000  \n",
      "max       58.900000     31.800000  \n"
     ]
    }
   ],
   "source": [
    "print(df.describe())"
   ]
  },
  {
   "cell_type": "markdown",
   "metadata": {},
   "source": [
    "## Índices e colunas\n",
    "\n"
   ]
  },
  {
   "cell_type": "markdown",
   "metadata": {},
   "source": [
    "Todo DataFrame de `pandas` tem identificadores para as suas linhas e para as suas colunas. Podemos checar quais são esses identificadores investigando os atributos `index` e `columns` respectivamente.\n",
    "\n"
   ]
  },
  {
   "cell_type": "code",
   "execution_count": 5,
   "metadata": {},
   "outputs": [
    {
     "name": "stdout",
     "output_type": "stream",
     "text": [
      "RangeIndex(start=0, stop=53940, step=1)\n",
      "\n",
      "Index(['carat', 'cut', 'color', 'clarity', 'depth', 'table', 'price', 'x', 'y',\n",
      "       'z'],\n",
      "      dtype='object')\n"
     ]
    }
   ],
   "source": [
    "print(df.index)\n",
    "print()\n",
    "print(df.columns)"
   ]
  },
  {
   "cell_type": "markdown",
   "metadata": {},
   "source": [
    "Como vemos acima, as linhas são identificadas por números inteiros de 0 até 53939 e as colunas são identificadas por strings, sendo elas:\n",
    "\n",
    "-   `carat`: peso quilate do diamante (1 quilate = 0,20 gramas);\n",
    "-   `cut`: qualidade do corte;\n",
    "-   `color`: medida da cor. Da pior para a melhor: J, I, H, G, F, E e D;\n",
    "-   `clarity`: medida da transparência. Da pior para a melhor: I1, SI2, SI1, VS2, VS1, VVS2, VVS1 e IF;\n",
    "-   `depth`: profundidade calculada pela fórmula $2z / (x + y)$;\n",
    "-   `table`: maior largura do topo do diamante relativa à altura do diamante;\n",
    "-   `price`: preço em dólares;\n",
    "-   `x`: largura em milímetros;\n",
    "-   `y`: altura em milímetros;\n",
    "-   `z`: profundidade em milímetros.\n",
    "\n",
    "Dica de ouro: é de extrema importância que o significado de cada coluna esteja claro para você antes de usar um conjunto de dados!\n",
    "\n"
   ]
  },
  {
   "cell_type": "markdown",
   "metadata": {},
   "source": [
    "## Consultando e filtrando dados\n",
    "\n"
   ]
  },
  {
   "cell_type": "markdown",
   "metadata": {},
   "source": [
    "Conseguimos consultar os valores de colunas usando o colchetes.\n",
    "\n"
   ]
  },
  {
   "cell_type": "code",
   "execution_count": 6,
   "metadata": {},
   "outputs": [
    {
     "name": "stdout",
     "output_type": "stream",
     "text": [
      "0        0.23\n",
      "1        0.21\n",
      "2        0.23\n",
      "3        0.29\n",
      "4        0.31\n",
      "         ... \n",
      "53935    0.72\n",
      "53936    0.72\n",
      "53937    0.70\n",
      "53938    0.86\n",
      "53939    0.75\n",
      "Name: carat, Length: 53940, dtype: float64\n"
     ]
    }
   ],
   "source": [
    "print(df[\"carat\"])"
   ]
  },
  {
   "cell_type": "markdown",
   "metadata": {},
   "source": [
    "Também é possível consultar os valores de colunas usando o ponto, porém <u>essa notação não é recomendada</u>!\n",
    "\n"
   ]
  },
  {
   "cell_type": "code",
   "execution_count": 7,
   "metadata": {},
   "outputs": [
    {
     "name": "stdout",
     "output_type": "stream",
     "text": [
      "0        0.23\n",
      "1        0.21\n",
      "2        0.23\n",
      "3        0.29\n",
      "4        0.31\n",
      "         ... \n",
      "53935    0.72\n",
      "53936    0.72\n",
      "53937    0.70\n",
      "53938    0.86\n",
      "53939    0.75\n",
      "Name: carat, Length: 53940, dtype: float64\n"
     ]
    }
   ],
   "source": [
    "print(df.carat)"
   ]
  },
  {
   "cell_type": "markdown",
   "metadata": {},
   "source": [
    "Para consultar o valor de mais de uma coluna ao mesmo tempo, use uma lista com os nomes das colunas.\n",
    "\n"
   ]
  },
  {
   "cell_type": "code",
   "execution_count": 8,
   "metadata": {},
   "outputs": [
    {
     "name": "stdout",
     "output_type": "stream",
     "text": [
      "       carat  price     x\n",
      "0       0.23    326  3.95\n",
      "1       0.21    326  3.89\n",
      "2       0.23    327  4.05\n",
      "3       0.29    334  4.20\n",
      "4       0.31    335  4.34\n",
      "...      ...    ...   ...\n",
      "53935   0.72   2757  5.75\n",
      "53936   0.72   2757  5.69\n",
      "53937   0.70   2757  5.66\n",
      "53938   0.86   2757  6.15\n",
      "53939   0.75   2757  5.83\n",
      "\n",
      "[53940 rows x 3 columns]\n"
     ]
    }
   ],
   "source": [
    "colunas_que_quero_checar = [\"carat\", \"price\", \"x\"]\n",
    "print(df[colunas_que_quero_checar])"
   ]
  },
  {
   "cell_type": "markdown",
   "metadata": {},
   "source": [
    "Para consultar o valor de linhas nós precisamos usar o método `loc` se soubermos o *nome* da linha ou o método `iloc` se soubermos a sua *posição*. Neste exemplo, por acaso o nome da linha é igual ao valor da sua posição! Não deixe esse fato te atrapalar. A linha que ocupa a posição 0 (essa é a primeira linha) tem o nome `0` neste nosso dataset, mas isso <u>não é uma obrigatoriedade</u>.\n",
    "\n",
    "Vamos fazer um teste! Digamos que você quer pegar os valores das linhas que têm *nome* 0, 10 e 100. Como sabemos o *nome* nós usamos o `loc`. Como é mais de um nome, colocamos todos eles em uma lista assim como fizemos com a coluna no exemplo anterior.\n",
    "\n"
   ]
  },
  {
   "cell_type": "code",
   "execution_count": 9,
   "metadata": {},
   "outputs": [
    {
     "name": "stdout",
     "output_type": "stream",
     "text": [
      "     carat        cut color clarity  depth  table  price     x     y     z\n",
      "0     0.23      Ideal     E     SI2   61.5   55.0    326  3.95  3.98  2.43\n",
      "10    0.30       Good     J     SI1   64.0   55.0    339  4.25  4.28  2.73\n",
      "100   0.75  Very Good     D     SI1   63.2   56.0   2760  5.80  5.75  3.65\n"
     ]
    }
   ],
   "source": [
    "print(df.loc[[0, 10, 100]])"
   ]
  },
  {
   "cell_type": "markdown",
   "metadata": {},
   "source": [
    "Agora digamos que você quer pegar os valores das últimas 3 linhas, mas não sabe o nome delas. Como sabemos a *posição* nós usamos o `iloc`. A sintaxe é a mesma de segmentação de listas que vimos em PCD!\n",
    "\n"
   ]
  },
  {
   "cell_type": "code",
   "execution_count": 10,
   "metadata": {},
   "outputs": [
    {
     "name": "stdout",
     "output_type": "stream",
     "text": [
      "       carat        cut color clarity  depth  table  price     x     y     z\n",
      "53937   0.70  Very Good     D     SI1   62.8   60.0   2757  5.66  5.68  3.56\n",
      "53938   0.86    Premium     H     SI2   61.0   58.0   2757  6.15  6.12  3.74\n",
      "53939   0.75      Ideal     D     SI2   62.2   55.0   2757  5.83  5.87  3.64\n"
     ]
    }
   ],
   "source": [
    "print(df.iloc[-3:])"
   ]
  },
  {
   "cell_type": "markdown",
   "metadata": {},
   "source": [
    "Os métodos `loc` e `iloc` nos permitem consultar linhas e colunas *ao mesmo tempo*! A regra se mantém a mesma, se a consulta for feita usando o *nome* devemos usar o `loc` e se for feito usando a *posição* devemos usar o `iloc`.\n",
    "\n",
    "Digamos que eu quero as linhas com nome 9, 99 e 999 e as colunas `x`, `y` e `z`.\n",
    "\n"
   ]
  },
  {
   "cell_type": "code",
   "execution_count": 11,
   "metadata": {},
   "outputs": [
    {
     "name": "stdout",
     "output_type": "stream",
     "text": [
      "        x     y     z\n",
      "9    4.00  4.05  2.39\n",
      "99   5.97  5.93  3.66\n",
      "999  6.68  6.61  4.03\n"
     ]
    }
   ],
   "source": [
    "print(df.loc[[9, 99, 999], [\"x\", \"y\", \"z\"]])"
   ]
  },
  {
   "cell_type": "markdown",
   "metadata": {},
   "source": [
    "Agora digamos que eu quero todas as linhas entre a 100 e a 1000 (inclusive) e apenas a última coluna.\n",
    "\n"
   ]
  },
  {
   "cell_type": "code",
   "execution_count": 12,
   "metadata": {},
   "outputs": [
    {
     "name": "stdout",
     "output_type": "stream",
     "text": [
      "100     3.65\n",
      "101     3.58\n",
      "102     3.59\n",
      "103     3.59\n",
      "104     3.72\n",
      "        ... \n",
      "996     3.57\n",
      "997     3.48\n",
      "998     3.58\n",
      "999     4.03\n",
      "1000    3.62\n",
      "Name: z, Length: 901, dtype: float64\n"
     ]
    }
   ],
   "source": [
    "print(df.iloc[100:1001, -1])"
   ]
  },
  {
   "cell_type": "markdown",
   "metadata": {},
   "source": [
    "Veja que todas as consultas que fizemos nessa seção não alteraram o nosso DataFrame original! Só alteramos o DataFrame original quando usamos o operador de atribuição (que é o sinal de igual).\n",
    "\n"
   ]
  },
  {
   "cell_type": "code",
   "execution_count": 13,
   "metadata": {},
   "outputs": [
    {
     "name": "stdout",
     "output_type": "stream",
     "text": [
      "       carat        cut color clarity  depth  table  price     x     y     z\n",
      "0       0.23      Ideal     E     SI2   61.5   55.0    326  3.95  3.98  2.43\n",
      "1       0.21    Premium     E     SI1   59.8   61.0    326  3.89  3.84  2.31\n",
      "2       0.23       Good     E     VS1   56.9   65.0    327  4.05  4.07  2.31\n",
      "3       0.29    Premium     I     VS2   62.4   58.0    334  4.20  4.23  2.63\n",
      "4       0.31       Good     J     SI2   63.3   58.0    335  4.34  4.35  2.75\n",
      "...      ...        ...   ...     ...    ...    ...    ...   ...   ...   ...\n",
      "53935   0.72      Ideal     D     SI1   60.8   57.0   2757  5.75  5.76  3.50\n",
      "53936   0.72       Good     D     SI1   63.1   55.0   2757  5.69  5.75  3.61\n",
      "53937   0.70  Very Good     D     SI1   62.8   60.0   2757  5.66  5.68  3.56\n",
      "53938   0.86    Premium     H     SI2   61.0   58.0   2757  6.15  6.12  3.74\n",
      "53939   0.75      Ideal     D     SI2   62.2   55.0   2757  5.83  5.87  3.64\n",
      "\n",
      "[53940 rows x 10 columns]\n"
     ]
    }
   ],
   "source": [
    "print(df)"
   ]
  },
  {
   "cell_type": "markdown",
   "metadata": {},
   "source": [
    "## Consultando e filtrando dados [2]\n",
    "\n"
   ]
  },
  {
   "cell_type": "markdown",
   "metadata": {},
   "source": [
    "Muitas vezes precisamos filtrar os dados de forma condicional ao valor armazenado. Vamos supor que queremos apenas os dados com preço acima de 1000 dólares.\n",
    "\n"
   ]
  },
  {
   "cell_type": "code",
   "execution_count": 14,
   "metadata": {},
   "outputs": [
    {
     "name": "stdout",
     "output_type": "stream",
     "text": [
      "       carat        cut color clarity  depth  table  price     x     y     z\n",
      "90      0.70      Ideal     E     SI1   62.5   57.0   2757  5.70  5.72  3.57\n",
      "91      0.86       Fair     E     SI2   55.1   69.0   2757  6.45  6.33  3.52\n",
      "92      0.70      Ideal     G     VS2   61.6   56.0   2757  5.70  5.67  3.50\n",
      "93      0.71  Very Good     E     VS2   62.4   57.0   2759  5.68  5.73  3.56\n",
      "94      0.78  Very Good     G     SI2   63.8   56.0   2759  5.81  5.85  3.72\n",
      "...      ...        ...   ...     ...    ...    ...    ...   ...   ...   ...\n",
      "53935   0.72      Ideal     D     SI1   60.8   57.0   2757  5.75  5.76  3.50\n",
      "53936   0.72       Good     D     SI1   63.1   55.0   2757  5.69  5.75  3.61\n",
      "53937   0.70  Very Good     D     SI1   62.8   60.0   2757  5.66  5.68  3.56\n",
      "53938   0.86    Premium     H     SI2   61.0   58.0   2757  6.15  6.12  3.74\n",
      "53939   0.75      Ideal     D     SI2   62.2   55.0   2757  5.83  5.87  3.64\n",
      "\n",
      "[39416 rows x 10 columns]\n"
     ]
    }
   ],
   "source": [
    "logic = df[\"price\"] > 1000\n",
    "\n",
    "print(df.loc[logic])"
   ]
  },
  {
   "cell_type": "markdown",
   "metadata": {},
   "source": [
    "E se quisermos preço acima de 1000 **e** transparência tipo IF?\n",
    "\n"
   ]
  },
  {
   "cell_type": "code",
   "execution_count": 15,
   "metadata": {},
   "outputs": [
    {
     "name": "stdout",
     "output_type": "stream",
     "text": [
      "       carat        cut color clarity  depth  table  price     x     y     z\n",
      "229     0.52      Ideal     F      IF   62.2   55.0   2783  5.14  5.18  3.21\n",
      "250     0.55      Ideal     G      IF   60.9   57.0   2789  5.28  5.30  3.22\n",
      "256     0.64      Ideal     G      IF   61.3   56.0   2790  5.54  5.58  3.41\n",
      "281     0.72    Premium     I      IF   63.0   57.0   2795  5.72  5.70  3.60\n",
      "304     0.60  Very Good     G      IF   61.6   56.0   2800  5.43  5.46  3.35\n",
      "...      ...        ...   ...     ...    ...    ...    ...   ...   ...   ...\n",
      "53790   0.54      Ideal     F      IF   62.2   54.0   2729  5.24  5.27  3.27\n",
      "53792   0.51      Ideal     F      IF   62.5   54.0   2730  5.12  5.16  3.21\n",
      "53811   0.52      Ideal     F      IF   61.7   57.0   2733  5.13  5.17  3.18\n",
      "53887   0.52      Ideal     F      IF   61.5   57.0   2749  5.15  5.19  3.18\n",
      "53911   0.57    Premium     E      IF   59.8   60.0   2753  5.43  5.38  3.23\n",
      "\n",
      "[1042 rows x 10 columns]\n"
     ]
    }
   ],
   "source": [
    "logic1 = df[\"price\"] > 1000\n",
    "logic2 = df[\"clarity\"] == \"IF\"\n",
    "\n",
    "print(df.loc[logic1 & logic2])"
   ]
  },
  {
   "cell_type": "markdown",
   "metadata": {},
   "source": [
    "E se quisermos preço acima de 1000 **e** quilates entre 0,5 e 1 **ou** transparência tipo IF ?\n",
    "\n"
   ]
  },
  {
   "cell_type": "code",
   "execution_count": 16,
   "metadata": {},
   "outputs": [
    {
     "name": "stdout",
     "output_type": "stream",
     "text": [
      "       carat        cut color clarity  depth  table  price     x     y     z\n",
      "90      0.70      Ideal     E     SI1   62.5   57.0   2757  5.70  5.72  3.57\n",
      "91      0.86       Fair     E     SI2   55.1   69.0   2757  6.45  6.33  3.52\n",
      "92      0.70      Ideal     G     VS2   61.6   56.0   2757  5.70  5.67  3.50\n",
      "93      0.71  Very Good     E     VS2   62.4   57.0   2759  5.68  5.73  3.56\n",
      "94      0.78  Very Good     G     SI2   63.8   56.0   2759  5.81  5.85  3.72\n",
      "...      ...        ...   ...     ...    ...    ...    ...   ...   ...   ...\n",
      "53935   0.72      Ideal     D     SI1   60.8   57.0   2757  5.75  5.76  3.50\n",
      "53936   0.72       Good     D     SI1   63.1   55.0   2757  5.69  5.75  3.61\n",
      "53937   0.70  Very Good     D     SI1   62.8   60.0   2757  5.66  5.68  3.56\n",
      "53938   0.86    Premium     H     SI2   61.0   58.0   2757  6.15  6.12  3.74\n",
      "53939   0.75      Ideal     D     SI2   62.2   55.0   2757  5.83  5.87  3.64\n",
      "\n",
      "[20080 rows x 10 columns]\n"
     ]
    }
   ],
   "source": [
    "logic1 = df[\"price\"] > 1000\n",
    "logic2 = df[\"clarity\"] == \"IF\"\n",
    "logic3 = df[\"carat\"] >= 0.5\n",
    "logic4 = df[\"carat\"] <= 1\n",
    "\n",
    "print(df.loc[(logic1 & logic3 & logic4) | logic2])"
   ]
  },
  {
   "cell_type": "markdown",
   "metadata": {},
   "source": [
    "Os operadores `&` e `|` são operadores bitwise que não vimos no curso de PCD. Para todos os fins aqui, eles estão atuando como os operadores lógicos de conjunção e disjunção. Neste caso os operadores lógicos `and` e `or` que vimos não vão funcionar (pode fazer o teste!).\n",
    "\n",
    "Existe uma outra forma de filtrar resultados usando o método `query`. O exemplo acima fica da seguinte forma:\n",
    "\n"
   ]
  },
  {
   "cell_type": "code",
   "execution_count": 17,
   "metadata": {},
   "outputs": [
    {
     "name": "stdout",
     "output_type": "stream",
     "text": [
      "       carat        cut color clarity  depth  table  price     x     y     z\n",
      "90      0.70      Ideal     E     SI1   62.5   57.0   2757  5.70  5.72  3.57\n",
      "91      0.86       Fair     E     SI2   55.1   69.0   2757  6.45  6.33  3.52\n",
      "92      0.70      Ideal     G     VS2   61.6   56.0   2757  5.70  5.67  3.50\n",
      "93      0.71  Very Good     E     VS2   62.4   57.0   2759  5.68  5.73  3.56\n",
      "94      0.78  Very Good     G     SI2   63.8   56.0   2759  5.81  5.85  3.72\n",
      "...      ...        ...   ...     ...    ...    ...    ...   ...   ...   ...\n",
      "53935   0.72      Ideal     D     SI1   60.8   57.0   2757  5.75  5.76  3.50\n",
      "53936   0.72       Good     D     SI1   63.1   55.0   2757  5.69  5.75  3.61\n",
      "53937   0.70  Very Good     D     SI1   62.8   60.0   2757  5.66  5.68  3.56\n",
      "53938   0.86    Premium     H     SI2   61.0   58.0   2757  6.15  6.12  3.74\n",
      "53939   0.75      Ideal     D     SI2   62.2   55.0   2757  5.83  5.87  3.64\n",
      "\n",
      "[20080 rows x 10 columns]\n"
     ]
    }
   ],
   "source": [
    "print(df.query(\"(price > 1000 & carat >= 0.5 & carat <=1) | clarity == 'IF'\"))"
   ]
  },
  {
   "cell_type": "markdown",
   "metadata": {},
   "source": [
    "## Reestruturando um DataFrame\n",
    "\n"
   ]
  },
  {
   "cell_type": "markdown",
   "metadata": {},
   "source": [
    "Colunas ou linhas que você queira remover do seu DataFrame podem ser removidas com o método `drop`. É necessário indicar o eixo da operação: operações em linhas são no eixo 0 e operações em colunas são no eixo 1.\n",
    "\n",
    "Para remover a coluna `carat` fazemos o seguinte:\n",
    "\n"
   ]
  },
  {
   "cell_type": "code",
   "execution_count": 18,
   "metadata": {},
   "outputs": [
    {
     "name": "stdout",
     "output_type": "stream",
     "text": [
      "             cut color clarity  depth  table  price     x     y     z\n",
      "0          Ideal     E     SI2   61.5   55.0    326  3.95  3.98  2.43\n",
      "1        Premium     E     SI1   59.8   61.0    326  3.89  3.84  2.31\n",
      "2           Good     E     VS1   56.9   65.0    327  4.05  4.07  2.31\n",
      "3        Premium     I     VS2   62.4   58.0    334  4.20  4.23  2.63\n",
      "4           Good     J     SI2   63.3   58.0    335  4.34  4.35  2.75\n",
      "...          ...   ...     ...    ...    ...    ...   ...   ...   ...\n",
      "53935      Ideal     D     SI1   60.8   57.0   2757  5.75  5.76  3.50\n",
      "53936       Good     D     SI1   63.1   55.0   2757  5.69  5.75  3.61\n",
      "53937  Very Good     D     SI1   62.8   60.0   2757  5.66  5.68  3.56\n",
      "53938    Premium     H     SI2   61.0   58.0   2757  6.15  6.12  3.74\n",
      "53939      Ideal     D     SI2   62.2   55.0   2757  5.83  5.87  3.64\n",
      "\n",
      "[53940 rows x 9 columns]\n"
     ]
    }
   ],
   "source": [
    "print(df.drop([\"carat\"], axis=1))"
   ]
  },
  {
   "cell_type": "markdown",
   "metadata": {},
   "source": [
    "Para remover as colunas `carat` e `z` fazemos o seguinte:\n",
    "\n"
   ]
  },
  {
   "cell_type": "code",
   "execution_count": 19,
   "metadata": {},
   "outputs": [
    {
     "name": "stdout",
     "output_type": "stream",
     "text": [
      "             cut color clarity  depth  table  price     x     y\n",
      "0          Ideal     E     SI2   61.5   55.0    326  3.95  3.98\n",
      "1        Premium     E     SI1   59.8   61.0    326  3.89  3.84\n",
      "2           Good     E     VS1   56.9   65.0    327  4.05  4.07\n",
      "3        Premium     I     VS2   62.4   58.0    334  4.20  4.23\n",
      "4           Good     J     SI2   63.3   58.0    335  4.34  4.35\n",
      "...          ...   ...     ...    ...    ...    ...   ...   ...\n",
      "53935      Ideal     D     SI1   60.8   57.0   2757  5.75  5.76\n",
      "53936       Good     D     SI1   63.1   55.0   2757  5.69  5.75\n",
      "53937  Very Good     D     SI1   62.8   60.0   2757  5.66  5.68\n",
      "53938    Premium     H     SI2   61.0   58.0   2757  6.15  6.12\n",
      "53939      Ideal     D     SI2   62.2   55.0   2757  5.83  5.87\n",
      "\n",
      "[53940 rows x 8 columns]\n"
     ]
    }
   ],
   "source": [
    "print(df.drop([\"carat\", \"z\"], axis=1))"
   ]
  },
  {
   "cell_type": "markdown",
   "metadata": {},
   "source": [
    "Para remover a linha de nome 1:\n",
    "\n"
   ]
  },
  {
   "cell_type": "code",
   "execution_count": 20,
   "metadata": {},
   "outputs": [
    {
     "name": "stdout",
     "output_type": "stream",
     "text": [
      "       carat        cut color clarity  depth  table  price     x     y     z\n",
      "0       0.23      Ideal     E     SI2   61.5   55.0    326  3.95  3.98  2.43\n",
      "2       0.23       Good     E     VS1   56.9   65.0    327  4.05  4.07  2.31\n",
      "3       0.29    Premium     I     VS2   62.4   58.0    334  4.20  4.23  2.63\n",
      "4       0.31       Good     J     SI2   63.3   58.0    335  4.34  4.35  2.75\n",
      "5       0.24  Very Good     J    VVS2   62.8   57.0    336  3.94  3.96  2.48\n",
      "...      ...        ...   ...     ...    ...    ...    ...   ...   ...   ...\n",
      "53935   0.72      Ideal     D     SI1   60.8   57.0   2757  5.75  5.76  3.50\n",
      "53936   0.72       Good     D     SI1   63.1   55.0   2757  5.69  5.75  3.61\n",
      "53937   0.70  Very Good     D     SI1   62.8   60.0   2757  5.66  5.68  3.56\n",
      "53938   0.86    Premium     H     SI2   61.0   58.0   2757  6.15  6.12  3.74\n",
      "53939   0.75      Ideal     D     SI2   62.2   55.0   2757  5.83  5.87  3.64\n",
      "\n",
      "[53939 rows x 10 columns]\n"
     ]
    }
   ],
   "source": [
    "print(df.drop([1], axis=0))"
   ]
  },
  {
   "cell_type": "markdown",
   "metadata": {},
   "source": [
    "Para remover as linhas de nome 1, 2 e 3:\n",
    "\n"
   ]
  },
  {
   "cell_type": "code",
   "execution_count": 21,
   "metadata": {},
   "outputs": [
    {
     "name": "stdout",
     "output_type": "stream",
     "text": [
      "       carat        cut color clarity  depth  table  price     x     y     z\n",
      "0       0.23      Ideal     E     SI2   61.5   55.0    326  3.95  3.98  2.43\n",
      "4       0.31       Good     J     SI2   63.3   58.0    335  4.34  4.35  2.75\n",
      "5       0.24  Very Good     J    VVS2   62.8   57.0    336  3.94  3.96  2.48\n",
      "6       0.24  Very Good     I    VVS1   62.3   57.0    336  3.95  3.98  2.47\n",
      "7       0.26  Very Good     H     SI1   61.9   55.0    337  4.07  4.11  2.53\n",
      "...      ...        ...   ...     ...    ...    ...    ...   ...   ...   ...\n",
      "53935   0.72      Ideal     D     SI1   60.8   57.0   2757  5.75  5.76  3.50\n",
      "53936   0.72       Good     D     SI1   63.1   55.0   2757  5.69  5.75  3.61\n",
      "53937   0.70  Very Good     D     SI1   62.8   60.0   2757  5.66  5.68  3.56\n",
      "53938   0.86    Premium     H     SI2   61.0   58.0   2757  6.15  6.12  3.74\n",
      "53939   0.75      Ideal     D     SI2   62.2   55.0   2757  5.83  5.87  3.64\n",
      "\n",
      "[53937 rows x 10 columns]\n"
     ]
    }
   ],
   "source": [
    "print(df.drop([1, 2, 3], axis=0))"
   ]
  },
  {
   "cell_type": "markdown",
   "metadata": {},
   "source": [
    "Se você preferir dizer para o `pandas` *o que fica* ao invés de dizer *o que deve sair*, então use o método `reindex` que funciona de maneira similar ao `drop`.\n",
    "\n",
    "Para manter apenas as colunas `x` e `price` fazemos o seguinte:\n",
    "\n"
   ]
  },
  {
   "cell_type": "code",
   "execution_count": 22,
   "metadata": {},
   "outputs": [
    {
     "name": "stdout",
     "output_type": "stream",
     "text": [
      "          x  price\n",
      "0      3.95    326\n",
      "1      3.89    326\n",
      "2      4.05    327\n",
      "3      4.20    334\n",
      "4      4.34    335\n",
      "...     ...    ...\n",
      "53935  5.75   2757\n",
      "53936  5.69   2757\n",
      "53937  5.66   2757\n",
      "53938  6.15   2757\n",
      "53939  5.83   2757\n",
      "\n",
      "[53940 rows x 2 columns]\n"
     ]
    }
   ],
   "source": [
    "print(df.reindex([\"x\", \"price\"], axis=1))"
   ]
  },
  {
   "cell_type": "markdown",
   "metadata": {},
   "source": [
    "Para manter apenas as linhas de nome 555, 777, 999 e 1111 fazemos o seguinte:\n",
    "\n"
   ]
  },
  {
   "cell_type": "code",
   "execution_count": 23,
   "metadata": {},
   "outputs": [
    {
     "name": "stdout",
     "output_type": "stream",
     "text": [
      "      carat        cut color clarity  depth  table  price     x     y     z\n",
      "555    0.90    Premium     G     SI1   60.6   62.0   2830  6.21  6.13  3.74\n",
      "777    0.75       Fair     F     VS1   55.8   70.0   2859  6.09  5.98  3.37\n",
      "999    1.12    Premium     J     SI2   60.6   59.0   2898  6.68  6.61  4.03\n",
      "1111   0.83  Very Good     I     VS2   62.0   55.0   2915  6.03  6.06  3.74\n"
     ]
    }
   ],
   "source": [
    "print(df.reindex([555, 777, 999, 1111], axis=0))"
   ]
  },
  {
   "cell_type": "markdown",
   "metadata": {},
   "source": [
    "## Leitura extra\n",
    "\n"
   ]
  },
  {
   "cell_type": "markdown",
   "metadata": {},
   "source": [
    "Se algum dia você precisar transpor seu DataFrame, use o método `T`.\n",
    "\n"
   ]
  },
  {
   "cell_type": "code",
   "execution_count": 24,
   "metadata": {},
   "outputs": [
    {
     "name": "stdout",
     "output_type": "stream",
     "text": [
      "         0        1     2        3     4          5          6          7      \\\n",
      "carat     0.23     0.21  0.23     0.29  0.31       0.24       0.24       0.26   \n",
      "cut      Ideal  Premium  Good  Premium  Good  Very Good  Very Good  Very Good   \n",
      "color        E        E     E        I     J          J          I          H   \n",
      "clarity    SI2      SI1   VS1      VS2   SI2       VVS2       VVS1        SI1   \n",
      "depth     61.5     59.8  56.9     62.4  63.3       62.8       62.3       61.9   \n",
      "table     55.0     61.0  65.0     58.0  58.0       57.0       57.0       55.0   \n",
      "price      326      326   327      334   335        336        336        337   \n",
      "x         3.95     3.89  4.05      4.2  4.34       3.94       3.95       4.07   \n",
      "y         3.98     3.84  4.07     4.23  4.35       3.96       3.98       4.11   \n",
      "z         2.43     2.31  2.31     2.63  2.75       2.48       2.47       2.53   \n",
      "\n",
      "        8          9      ...    53930    53931      53932      53933  \\\n",
      "carat    0.22       0.23  ...     0.71     0.71        0.7        0.7   \n",
      "cut      Fair  Very Good  ...  Premium  Premium  Very Good  Very Good   \n",
      "color       E          H  ...        E        F          E          E   \n",
      "clarity   VS2        VS1  ...      SI1      SI1        VS2        VS2   \n",
      "depth    65.1       59.4  ...     60.5     59.8       60.5       61.2   \n",
      "table    61.0       61.0  ...     55.0     62.0       59.0       59.0   \n",
      "price     337        338  ...     2756     2756       2757       2757   \n",
      "x        3.87        4.0  ...     5.79     5.74       5.71       5.69   \n",
      "y        3.78       4.05  ...     5.74     5.73       5.76       5.72   \n",
      "z        2.49       2.39  ...     3.49     3.43       3.47       3.49   \n",
      "\n",
      "           53934  53935 53936      53937    53938  53939  \n",
      "carat       0.72   0.72  0.72        0.7     0.86   0.75  \n",
      "cut      Premium  Ideal  Good  Very Good  Premium  Ideal  \n",
      "color          D      D     D          D        H      D  \n",
      "clarity      SI1    SI1   SI1        SI1      SI2    SI2  \n",
      "depth       62.7   60.8  63.1       62.8     61.0   62.2  \n",
      "table       59.0   57.0  55.0       60.0     58.0   55.0  \n",
      "price       2757   2757  2757       2757     2757   2757  \n",
      "x           5.69   5.75  5.69       5.66     6.15   5.83  \n",
      "y           5.73   5.76  5.75       5.68     6.12   5.87  \n",
      "z           3.58    3.5  3.61       3.56     3.74   3.64  \n",
      "\n",
      "[10 rows x 53940 columns]\n"
     ]
    }
   ],
   "source": [
    "print(df.T)"
   ]
  },
  {
   "cell_type": "markdown",
   "metadata": {},
   "source": [
    "Para checar dados únicos em colunas de seu DataFrame, use o método `unique`.\n",
    "\n"
   ]
  },
  {
   "cell_type": "code",
   "execution_count": 25,
   "metadata": {},
   "outputs": [
    {
     "name": "stdout",
     "output_type": "stream",
     "text": [
      "['SI2', 'SI1', 'VS1', 'VS2', 'VVS2', 'VVS1', 'I1', 'IF']\n",
      "Categories (8, object): ['IF', 'VVS1', 'VVS2', 'VS1', 'VS2', 'SI1', 'SI2', 'I1']\n"
     ]
    }
   ],
   "source": [
    "print(df[\"clarity\"].unique())"
   ]
  },
  {
   "cell_type": "markdown",
   "metadata": {},
   "source": [
    "Se você precisar remover dados duplicados, veja a [documentação](https://pandas.pydata.org/pandas-docs/stable/reference/api/pandas.DataFrame.drop_duplicates.html) do método `drop_duplicates`\n",
    "\n",
    "Se você tem dois ou mais DataFrames e gostaria de consolidá-los em um único DataFrame, leia o material disponível neste [link](https://pandas.pydata.org/pandas-docs/stable/user_guide/merging.html). Existem diversas formas de fazer isso, por isso é melhor ler o material em busca da forma que mais atende seu caso específico.\n",
    "\n",
    "Se você precisa agrupar os dados de um DataFrame para realizar alguma operação (por exemplo, você quer agrupar todos os materiais de mesma composição para não ter materias repetidos na sua tabela) veja como fazer isso neste [guia](https://pandas.pydata.org/pandas-docs/stable/user_guide/groupby.html).\n",
    "\n",
    "Para exemplos curtos e rápidos de como fazer diversas coisas em `pandas` veja o [livro de receitas](https://pandas.pydata.org/pandas-docs/stable/user_guide/cookbook.html).\n",
    "\n",
    "Enfim, o `pandas` faz praticamente tudo que você imaginar com seus dados. Cheque a [documentação](https://pandas.pydata.org/pandas-docs/stable/reference/index.html#api) para ver uma lista extensiva de tudo que ele faz.\n",
    "\n"
   ]
  }
 ],
 "metadata": {
  "kernelspec": {
   "display_name": "ilumpy",
   "language": "python",
   "name": "ilumpy"
  },
  "language_info": {
   "codemirror_mode": {
    "name": "ipython",
    "version": 3
   },
   "file_extension": ".py",
   "mimetype": "text/x-python",
   "name": "python",
   "nbconvert_exporter": "python",
   "pygments_lexer": "ipython3",
   "version": "3.9.7"
  },
  "org": null
 },
 "nbformat": 4,
 "nbformat_minor": 4
}
