{
 "cells": [
  {
   "cell_type": "code",
   "execution_count": 49,
   "id": "9036c81c-4efc-48a7-b49b-fbf70bde7a49",
   "metadata": {
    "tags": []
   },
   "outputs": [
    {
     "name": "stdout",
     "output_type": "stream",
     "text": [
      "     Mohs Hardness  Specific Gravity  Refractive Index  Molar Mass  \\\n",
      "0             4.50             3.240             1.580  817.339002   \n",
      "1             2.75             3.446             1.592  435.069330   \n",
      "2             2.00             4.420             2.085  921.092220   \n",
      "4             5.50             1.050             1.634  861.185368   \n",
      "5             3.50             3.295             1.457  225.618151   \n",
      "..             ...               ...               ...         ...   \n",
      "803           7.50             4.650             1.928  526.041800   \n",
      "805           6.50             3.230             1.702  379.378178   \n",
      "806           3.50             2.180             1.590  492.887716   \n",
      "807           7.00             3.411             1.596  263.580584   \n",
      "808           0.00             3.146             1.633  576.801907   \n",
      "\n",
      "     Molar Volume  Calculated Density  \n",
      "0        0.123390               5.498  \n",
      "1        0.056083               6.439  \n",
      "2        0.122631               6.234  \n",
      "4        0.112074               6.378  \n",
      "5        0.044887               4.172  \n",
      "..            ...                 ...  \n",
      "803      0.078468               5.564  \n",
      "805      0.100890               3.121  \n",
      "806      0.078566               5.207  \n",
      "807      0.089458               2.446  \n",
      "808      0.078605               6.091  \n",
      "\n",
      "[588 rows x 6 columns]\n"
     ]
    }
   ],
   "source": [
    "import pandas as pd\n",
    "from sklearn.model_selection import train_test_split\n",
    "from sklearn.metrics import mean_squared_error\n",
    "import seaborn as sns\n",
    "import matplotlib.pyplot as plt\n",
    "\n",
    "#criando o DataFrame \"df_chem\" (e talvez outros DataFrames)\n",
    "df = pd.read_csv(\"Minerals_Database3.csv\")  # Importação do dataset para ser utilizado como dataframe\n",
    "# Remoção de colunas não necessárias para o dataframe\n",
    "\n",
    "df = df.drop(['A'], axis=1)\n",
    "df = df.drop(['Name'], axis=1)\n",
    "\n",
    "dados_cat = df.reindex(df.columns[[0,2,4]], axis = 1) # Remoção de dados categóricos\n",
    "dados_categoricos = dados_cat.astype(\"category\") # Tratamento de dados para o tipo categórico\n",
    "newlist = [x for x in range(7,135)] # Range para pegarmos dados que estão em porcentagem\n",
    "porcent_df = df.reindex(df.columns[newlist], axis = 1) # Coleta dos dados de elementos em porcentagem\n",
    "df_chem = df.reindex(df.columns[[1,3,5,135,136,137]], axis=1) # Reindexação de um dataframe contendo apenas propriedades fisico-químicas\n",
    "df_chem, dados_categoricos\n",
    "\n",
    "df_chem.loc[(df[\"Refractive Index\"] == 0.000)]\n",
    "\n",
    "df_chem = df_chem.drop(df_remove.index)\n",
    "print(df_chem)"
   ]
  },
  {
   "cell_type": "code",
   "execution_count": 50,
   "id": "be579664-f5aa-45c6-b984-7ab6cf6b5185",
   "metadata": {
    "tags": []
   },
   "outputs": [
    {
     "name": "stdout",
     "output_type": "stream",
     "text": [
      "     Mohs Hardness  Specific Gravity  Refractive Index   Molar Mass  \\\n",
      "615           0.00             5.700             1.737   298.038100   \n",
      "194           5.50             4.650             2.120   123.842500   \n",
      "306           4.50             2.285             1.516   257.230046   \n",
      "82            0.00             4.380             1.793   426.292200   \n",
      "339           3.00             6.420             2.358  1560.452603   \n",
      "..             ...               ...               ...          ...   \n",
      "64            2.50             1.715             1.513   155.071500   \n",
      "29            6.25             2.625             1.535   411.331124   \n",
      "762           5.50             0.000             1.495   340.284075   \n",
      "367           1.00             3.197             1.641   490.595370   \n",
      "250           5.00             4.535             2.069   656.503600   \n",
      "\n",
      "     Molar Volume  Calculated Density  \n",
      "615      0.033606               7.361  \n",
      "194      0.011210               9.169  \n",
      "306      0.033718               6.332  \n",
      "82       0.067053               5.277  \n",
      "339      0.190472               6.800  \n",
      "..            ...                 ...  \n",
      "64       0.033455               3.847  \n",
      "29       0.089706               3.806  \n",
      "762      0.089726               3.148  \n",
      "367      0.044914               9.066  \n",
      "250      0.100857               5.403  \n",
      "\n",
      "[441 rows x 6 columns]\n",
      "\n",
      "     Mohs Hardness  Specific Gravity  Refractive Index   Molar Mass  \\\n",
      "470           4.25             3.660             1.690   277.129780   \n",
      "611           2.50             2.290             1.536   223.971720   \n",
      "252           5.00             3.070             1.651   250.753231   \n",
      "716           6.00             2.820             1.627   746.816808   \n",
      "532           3.00             2.305             1.525  1095.418700   \n",
      "..             ...               ...               ...          ...   \n",
      "424           3.25             6.241             2.117   258.652100   \n",
      "388           5.50             3.240             1.711   925.116139   \n",
      "283           4.00             3.306             1.441    59.076403   \n",
      "454           3.75             2.270             1.524   613.908400   \n",
      "200           5.50             3.305             1.666   215.566380   \n",
      "\n",
      "     Molar Volume  Calculated Density  \n",
      "470      0.033683               6.829  \n",
      "611      0.179271               1.037  \n",
      "252      0.078441               2.653  \n",
      "716      0.235392               2.633  \n",
      "532      0.258006               3.524  \n",
      "..            ...                 ...  \n",
      "424      0.022244               9.651  \n",
      "388      0.123484               6.218  \n",
      "283      0.011228               4.367  \n",
      "454      0.123403               4.129  \n",
      "200      0.078447               2.281  \n",
      "\n",
      "[147 rows x 6 columns]\n"
     ]
    }
   ],
   "source": [
    "tamanho = 0.25 # Fração de dados escolhida para treino e teste\n",
    "seed = 567\n",
    "\n",
    "i = df_chem.index\n",
    "i_treino, i_teste = train_test_split(i, test_size=tamanho, random_state = seed) #Split entre dados treino e teste\n",
    "\n",
    "df_treino = df_chem.loc[i_treino]\n",
    "df_teste = df_chem.loc[i_teste]\n",
    "\n",
    "print(df_treino)\n",
    "print()\n",
    "print(df_teste)"
   ]
  },
  {
   "cell_type": "code",
   "execution_count": null,
   "id": "9cb438c2-3fbb-4663-84c0-b9ade30bb69d",
   "metadata": {
    "tags": []
   },
   "outputs": [],
   "source": [
    "print(train_test_split.__doc__)"
   ]
  },
  {
   "cell_type": "code",
   "execution_count": null,
   "id": "ff8c9b9c-58ca-4c7c-ba9f-cde7f5d5f95b",
   "metadata": {},
   "outputs": [],
   "source": [
    "# Modelo preditivo\n",
    "# Definições de atributos e targets\n",
    "nome = 'df_chem'\n",
    "atributos = [\"Specific Gravity\", \"Refractive Index\", \"Mohs Hardness\", \"Dispersion\", 'Molar Mass', 'Molar Volume', 'Calculated Density']\n",
    "target = [\"Refractive Index\"]\n",
    "\n",
    "X_treino = df_treino.reindex(atributos, axis=1).values\n",
    "y_treino = df_treino.reindex(target, axis=1).values\n",
    "X_teste = df_teste.reindex(atributos, axis=1).values\n",
    "y_teste = df_teste.reindex(target, axis=1).values"
   ]
  },
  {
   "cell_type": "code",
   "execution_count": null,
   "id": "52b441f0-fe1e-456d-b345-8489d80ae62e",
   "metadata": {
    "tags": []
   },
   "outputs": [],
   "source": [
    "from sklearn.neighbors import KNeighborsRegressor\n",
    "\n",
    "# criação do modelo K-NN\n",
    "modelo_knn = KNeighborsRegressor()\n",
    "\n",
    "# treinamento do modelo\n",
    "modelo_knn.fit(X_treino, y_treino)\n",
    "\n",
    "# realiza uma previsão usando o modelo treinado\n",
    "previsao = modelo_knn.predict(X_teste)\n",
    "print(previsao)"
   ]
  },
  {
   "cell_type": "code",
   "execution_count": null,
   "id": "c968ed28-01a8-497e-bc0f-2bfcc04e233c",
   "metadata": {
    "tags": []
   },
   "outputs": [],
   "source": [
    "print(modelo_knn.__doc__)\n",
    "print(modelo_knn.predict.__doc__)"
   ]
  },
  {
   "cell_type": "code",
   "execution_count": null,
   "id": "bd74e215-8654-46dd-9b52-635c3a15b912",
   "metadata": {
    "tags": []
   },
   "outputs": [],
   "source": [
    "y_verdadeiro = y_teste\n",
    "y_previsao = modelo_knn.predict(X_teste)\n",
    "\n",
    "RMSE = mean_squared_error(y_verdadeiro, y_previsao, squared=False)\n",
    "\n",
    "print(f\"O RMSE do modelo k-NN foi um Indice Refrativo de {RMSE}.\")"
   ]
  },
  {
   "cell_type": "code",
   "execution_count": null,
   "id": "9bec25a5-4d3c-4b60-ba46-af261c09971e",
   "metadata": {
    "tags": []
   },
   "outputs": [],
   "source": [
    "print(mean_squared_error.__doc__)"
   ]
  },
  {
   "cell_type": "code",
   "execution_count": null,
   "id": "13279eb4-38d3-4a27-85ea-2c91177c5c13",
   "metadata": {},
   "outputs": [],
   "source": [
    "nn_vizinhos = [5, 20, 200] # Conjunto de Hiperparâmetros\n",
    "\n",
    "#Treino do modelo de k-nn vizinhos utilizando o dataset de treino e teste\n",
    "\n",
    "for n in nn_vizinhos:\n",
    "    modelo_knn = KNeighborsRegressor(n_neighbors=n)\n",
    "    modelo_knn.fit(X_treino, y_treino)\n",
    "\n",
    "    y_verdadeiro = y_teste\n",
    "    y_previsao = modelo_knn.predict(X_teste)\n",
    "    RMSE = mean_squared_error(y_verdadeiro, y_previsao, squared=False)\n",
    "    print(f\"O RMSE do modelo k-NN usando k={n} foi um Indice Refrativo de {RMSE}.\")"
   ]
  },
  {
   "cell_type": "code",
   "execution_count": null,
   "id": "cbc5701e-3a22-4178-9f0f-af7c6d573633",
   "metadata": {
    "tags": []
   },
   "outputs": [],
   "source": [
    "k_valores = range(1,200)\n",
    "RMSE_lista = []\n",
    "for i in k_valores:\n",
    "    modelo_knn = KNeighborsRegressor(n_neighbors=i)\n",
    "    modelo_knn.fit(X_treino, y_treino)\n",
    "    y_verdadeiro = y_teste\n",
    "    y_previsao = modelo_knn.predict(X_teste)\n",
    "    RMSE_valores = mean_squared_error(y_verdadeiro, y_previsao, squared=False)\n",
    "    RMSE_lista.append(RMSE_valores)\n",
    "    print(RMSE_lista)"
   ]
  },
  {
   "cell_type": "code",
   "execution_count": null,
   "id": "abadfa8b-648c-43fe-9fc1-6581e683faad",
   "metadata": {},
   "outputs": [],
   "source": [
    "relacao_k_RMSE = sns.lineplot(x = k_valores , y = RMSE_lista)\n",
    "relacao_k_RMSE.set(xlabel = \"K-values\", ylabel = \"RMSE\")"
   ]
  },
  {
   "cell_type": "markdown",
   "id": "a71b0d9f-4033-422c-89ae-8718105040c0",
   "metadata": {},
   "source": [
    "### Desempenho do modelo"
   ]
  },
  {
   "cell_type": "markdown",
   "id": "885537d8-af1c-4826-9623-2524dfad2557",
   "metadata": {},
   "source": [
    "**O desempenho do método K-NN mostrou que os vizinhos de interesse são os vizinhos mais próximos, ou seja, quanto menor o número de vizinhos definido por k, menor será o RMSE**"
   ]
  },
  {
   "cell_type": "markdown",
   "id": "2571bd79-48d1-4341-941c-57a90d5c88ca",
   "metadata": {},
   "source": [
    "**O RMSE por K-NN foi menor do que o modelo baseline, com um RMSE de 0.6461 com k = 200 contra um RMSE de 0.649 do modelo baseline.**"
   ]
  },
  {
   "cell_type": "markdown",
   "id": "7eccdc78-5ca1-40c2-9405-6345737405cb",
   "metadata": {},
   "source": [
    "### Modelo com conjunto de hiperparâmetros"
   ]
  },
  {
   "cell_type": "markdown",
   "id": "319f4bec-1cf6-46b7-8119-ef3f9aae4611",
   "metadata": {
    "tags": []
   },
   "source": [
    "\n",
    "\n",
    "##### Hiperparâmetros: O número de n vizinhos, dado por K;\n",
    "##### Função de peso para definir os valores;\n",
    "##### Algorítmo que irá computar os n-vizinhos;\n",
    "##### Métrica que computa a distância entre os vizinhos\n",
    "##### Número de trabalhos sendo executados em paralelo para procurar por vizinhos próximos;"
   ]
  },
  {
   "cell_type": "code",
   "execution_count": null,
   "id": "66c5381e-6fca-4325-8374-88564d62a127",
   "metadata": {
    "tags": []
   },
   "outputs": [],
   "source": [
    "nn_vizinhos = [2, 5, 10] # Conjunto de Hiperparâmetros\n",
    "\n",
    "#Treino do modelo de k-nn vizinhos utilizando o dataset de treino e teste\n",
    "\n",
    "for n in nn_vizinhos:\n",
    "    modelo_knn = KNeighborsRegressor(n_neighbors=n, \n",
    "                weights ='distance', \n",
    "                algorithm = 'auto', \n",
    "                leaf_size = 30, \n",
    "                p =2, \n",
    "                metric = 'minkowski', \n",
    "                n_jobs = None)\n",
    "\n",
    "    modelo_knn.fit(X_treino, y_treino)\n",
    "\n",
    "    y_verdadeiro = y_teste\n",
    "    y_previsao = modelo_knn.predict(X_teste)\n",
    "    RMSE = mean_squared_error(y_verdadeiro, y_previsao, squared=False)\n",
    "    print(f\"O RMSE do modelo k-NN usando k={n} foi um Indice Refrativo de {RMSE}.\")"
   ]
  },
  {
   "cell_type": "code",
   "execution_count": null,
   "id": "1cba0e45-6567-4d02-9e55-359f1e37f914",
   "metadata": {
    "tags": []
   },
   "outputs": [],
   "source": [
    "k_valores2 = range(2,10) #Range de valores K\n",
    "RMSE_lista2 = []\n",
    "for i in k_valores2:\n",
    "    modelo_knn = KNeighborsRegressor(n_neighbors=i, # Modelo KNN e seus hiperparâmetros\n",
    "                weights ='distance', \n",
    "                algorithm = 'auto', \n",
    "                leaf_size = 30, \n",
    "                p =2, \n",
    "                metric = 'minkowski', \n",
    "                n_jobs = None)\n",
    "    modelo_knn.fit(X_treino, y_treino)\n",
    "    y_verdadeiro = y_teste\n",
    "    y_previsao = modelo_knn.predict(X_teste)\n",
    "    RMSE_valores2 = mean_squared_error(y_verdadeiro, y_previsao, squared=False) #Raiz quadrada do erro quadrático médio\n",
    "    RMSE_lista2.append(RMSE_valores2)\n",
    "    print(RMSE_lista2)"
   ]
  },
  {
   "cell_type": "code",
   "execution_count": null,
   "id": "baf2066e-5cb5-4d08-8cf8-99f3aac9fcce",
   "metadata": {},
   "outputs": [],
   "source": [
    "relacao_k_RMSE2 = sns.lineplot(x = k_valores2 , y = RMSE_lista2)\n",
    "relacao_k_RMSE2.set(xlabel = \"K-values com peso\", ylabel = \"RMSE\")"
   ]
  },
  {
   "cell_type": "markdown",
   "id": "76b5fc3e-1a37-4b21-a1d3-c0025f3dd1a5",
   "metadata": {},
   "source": [
    "Ao definir o peso dos pontos vizinhos mais próximos baseados pela distância, vimos que, em torno de um valor k de 5 vizinhos, temos maior influência dos pontos no RMSE, diminuindo-o."
   ]
  }
 ],
 "metadata": {
  "kernelspec": {
   "display_name": "ilumpy",
   "language": "python",
   "name": "ilumpy"
  },
  "language_info": {
   "codemirror_mode": {
    "name": "ipython",
    "version": 3
   },
   "file_extension": ".py",
   "mimetype": "text/x-python",
   "name": "python",
   "nbconvert_exporter": "python",
   "pygments_lexer": "ipython3",
   "version": "3.9.7"
  }
 },
 "nbformat": 4,
 "nbformat_minor": 5
}
