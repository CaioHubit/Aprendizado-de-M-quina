{
 "cells": [
  {
   "cell_type": "markdown",
   "id": "3666e0a2-09b8-4fea-946e-f0fd1606182f",
   "metadata": {},
   "source": [
    "# Método de Clustering Hierárquico"
   ]
  },
  {
   "cell_type": "markdown",
   "id": "ffb912fe-1af6-411c-a402-3b88da4f1f89",
   "metadata": {},
   "source": [
    "#### Este método de agrupamento de dados consiste em unir pares de dados usando uma distância de linkagem. A análise gráfica foi realisada pela plotagem de um dendrograma. Um dendrograma é uma estrutura em formato de árvore, que explica a relação entre cada ponto de dado de um Dataset"
   ]
  },
  {
   "cell_type": "code",
   "execution_count": 1,
   "id": "48bab637-3756-467e-afb8-4d9683a9f54c",
   "metadata": {},
   "outputs": [
    {
     "name": "stdout",
     "output_type": "stream",
     "text": [
      "     Mohs Hardness  Specific Gravity  Refractive Index  Molar Mass  \\\n",
      "0             4.50             3.240             1.580  817.339002   \n",
      "1             2.75             3.446             1.592  435.069330   \n",
      "2             2.00             4.420             2.085  921.092220   \n",
      "4             5.50             1.050             1.634  861.185368   \n",
      "5             3.50             3.295             1.457  225.618151   \n",
      "..             ...               ...               ...         ...   \n",
      "803           7.50             4.650             1.928  526.041800   \n",
      "805           6.50             3.230             1.702  379.378178   \n",
      "806           3.50             2.180             1.590  492.887716   \n",
      "807           7.00             3.411             1.596  263.580584   \n",
      "808           0.00             3.146             1.633  576.801907   \n",
      "\n",
      "     Molar Volume  Calculated Density  \n",
      "0        0.123390               5.498  \n",
      "1        0.056083               6.439  \n",
      "2        0.122631               6.234  \n",
      "4        0.112074               6.378  \n",
      "5        0.044887               4.172  \n",
      "..            ...                 ...  \n",
      "803      0.078468               5.564  \n",
      "805      0.100890               3.121  \n",
      "806      0.078566               5.207  \n",
      "807      0.089458               2.446  \n",
      "808      0.078605               6.091  \n",
      "\n",
      "[588 rows x 6 columns]\n"
     ]
    }
   ],
   "source": [
    "#Importação das bibliotecas\n",
    "import pandas as pd\n",
    "from sklearn.model_selection import train_test_split\n",
    "from sklearn.datasets import make_moons, make_blobs\n",
    "from sklearn.preprocessing import MinMaxScaler\n",
    "from sklearn.decomposition import PCA\n",
    "from sklearn.ensemble import IsolationForest\n",
    "import seaborn as sns\n",
    "import matplotlib.pyplot as plt\n",
    "import numpy as np\n",
    "from sklearn.preprocessing import StandardScaler\n",
    "from sklearn.cluster import AgglomerativeClustering\n",
    "from sklearn.metrics.pairwise import pairwise_distances_argmin\n",
    "from scipy.cluster.hierarchy import dendrogram\n",
    "\n",
    "#criando o DataFrame \"df_chem\"\n",
    "df = pd.read_csv(\"Minerals_Database3.csv\")  # Importação do dataset para ser utilizado como dataframe\n",
    "# Remoção de colunas não necessárias para o dataframe\n",
    "\n",
    "df = df.drop(['A'], axis=1)\n",
    "df = df.drop(['Name'], axis=1)\n",
    "\n",
    "dados_cat = df.reindex(df.columns[[0,2,4]], axis = 1) # Remoção de dados categóricos\n",
    "dados_categoricos = dados_cat.astype(\"category\") # Tratamento de dados para o tipo categórico\n",
    "newlist = [x for x in range(7,135)] # Range para pegarmos dados que estão em porcentagem\n",
    "porcent_df = df.reindex(df.columns[newlist], axis = 1) # Coleta dos dados de elementos em porcentagem\n",
    "df_chem = df.reindex(df.columns[[1,3,5,135,136,137]], axis=1) # Reindexação de um dataframe contendo apenas propriedades fisico-químicas\n",
    "df_chem\n",
    "df_chem, dados_categoricos\n",
    "\n",
    "df_remove=df_chem.loc[(df_chem[\"Refractive Index\"] == 0.000)] #remove as linhas (objetos), cujo valor do índice de refração é 0\n",
    "\n",
    "df_chem = df_chem.drop(df_remove.index) #considera que o dataframe df_chem é o dataframe com as linhas removidas\n",
    "print(df_chem)"
   ]
  },
  {
   "cell_type": "markdown",
   "id": "cc9ab020-e278-49db-ad19-983b3de3bfed",
   "metadata": {},
   "source": [
    "#### Reindexação do Dataframe, e definição de atributos e alvo"
   ]
  },
  {
   "cell_type": "code",
   "execution_count": 2,
   "id": "625c48b5-2747-45c5-a8b4-ffbd2d1758c3",
   "metadata": {},
   "outputs": [],
   "source": [
    "nome = 'df_chem'\n",
    "atributos = [\"Specific Gravity\", \"Mohs Hardness\", 'Molar Mass', 'Molar Volume', 'Calculated Density']\n",
    "target = [\"Refractive Index\"]\n",
    "#df_chem_r2 = df_chem.reindex(atributos, axis=1)"
   ]
  },
  {
   "cell_type": "markdown",
   "id": "44d32777-5f85-4197-a91c-1b41273e6367",
   "metadata": {},
   "source": [
    "#### Escalonamento padrão do Dataframe"
   ]
  },
  {
   "cell_type": "code",
   "execution_count": 3,
   "id": "5b3cb836-061f-4158-b054-00dc32eed63f",
   "metadata": {},
   "outputs": [],
   "source": [
    "sc = StandardScaler() #Função que escalona\n",
    "sc.fit(df_chem)     #Fit dos dados escalonados\n",
    "df_chem_norma = sc.transform(df_chem)"
   ]
  },
  {
   "cell_type": "code",
   "execution_count": 4,
   "id": "c774b0eb-a069-4748-8298-b1849c130230",
   "metadata": {},
   "outputs": [
    {
     "name": "stdout",
     "output_type": "stream",
     "text": [
      "[[ 0.31604369  0.11090477 -0.55014037  0.72958684  0.23546097  0.26051248]\n",
      " [-0.57569712  0.24368401 -0.50042672 -0.08330322 -0.42196401  0.60854766]\n",
      " [-0.95787176  0.87148485  1.54197547  0.95021632  0.22805018  0.53272704]\n",
      " ...\n",
      " [-0.19352249 -0.57232818 -0.50871233  0.03964661 -0.20236363  0.15288418]\n",
      " [ 1.58995914  0.22112443 -0.48385551 -0.44797117 -0.09597107 -0.86829024]\n",
      " [-1.97700411  0.05031619 -0.33057178  0.21808873 -0.20198016  0.47983752]]\n"
     ]
    }
   ],
   "source": [
    "print(df_chem_norma)"
   ]
  },
  {
   "cell_type": "markdown",
   "id": "e58913ab-1b05-47e0-a517-bb6667a779ee",
   "metadata": {},
   "source": [
    "#### Definição do método Hierárquico e seus atributos"
   ]
  },
  {
   "cell_type": "code",
   "execution_count": 5,
   "id": "0678144c-dd8e-45e7-948e-1a451d507e60",
   "metadata": {
    "tags": []
   },
   "outputs": [
    {
     "name": "stdout",
     "output_type": "stream",
     "text": [
      "[575 490 353 569 406 417 339 587 451 319 535 479 411 547 561 385 578 320\n",
      " 377 412 546 525 450 467 335 499 367 421 486 344 375 368 553 465 526 382\n",
      " 586 423 384 529 541 326 585 453 409 389 345 444 468 543 422 427 342 381\n",
      " 527 555 563 358 404 508 414 348 556 446 403 570 521 455 361 480 501 519\n",
      " 487 443 429 517 307 415 351 372 419 507 352 354 573 399 430 337 506 336\n",
      " 540 329 420 562 431 505 343 580 548 482 322 565 559 566 491 369 253 522\n",
      " 316 442 579 509 306 459 176 296 428 485 376 493 327 277 371 471 378 317\n",
      " 388 574 545 572 400 497 557 393 328 273 537 315 311 436 214 460 418 539\n",
      " 282 568 489 445 433 495 551 496 512 221 461 392 536 340 514 518 504 262\n",
      " 280 434 472 374 331 533 373 523 435 528 309 201 323 549 186 365 360 534\n",
      " 576 425 338 439 531 426 510 516 524 324 477 500 466 357 402 297 520 532\n",
      " 457 511 560 462 452 386 349 175 217 355 310 350 213 154 567 475 538 408\n",
      " 463 239 222 347 390  87 205 416 395 252 564 476 209 502 260 298 530 552\n",
      " 401 554 303 173 469 410 279 314 456 513 481 276 210 312 295 440 544 405\n",
      " 383 366 577 464 304 106 488 281 229 289 151 183 492 396 174 192 227 379\n",
      " 139 424 437 332 286 288 169 441 161 454 582 242 194 473 394 334 272 226\n",
      " 261 356 211 571 271 212 432 259 380 140 558 216 171 407 413 346 550 220\n",
      " 330 215 364 449 498 147 283 230 254 267 370 269 542 308 219 305 191 152\n",
      " 207 233 250 104 266 187 206 190 172 184 470 581 474 341 177 232 231 196\n",
      " 237 363 290 268 447 197 275 236 182 159 245 293 583 109 294 235 153 170\n",
      " 130 133 107  76 359 448 168 483 274 301 178 287 318 243 155 302 387 167\n",
      "  86 105 494 484 458 438 270 584 244 208 284 218 185 478 238 189 181  91\n",
      " 503 146 110 300 225 165 278 321 138 223 515 228 256 202 333 117 398 397\n",
      " 204  88 247 362 193 115  94 258 143 391 129 251 263 134 103 180 234  43\n",
      "  96 141 166 264 102  51 118 200 114 121 113 265 100 299 249 257 195 124\n",
      " 325 163 291 203  95 160 248 313 255 285 240 101 246 122 188 125  50 156\n",
      "  56  69 158 241 149 136 179 119  60  93  77 198 199  89 292 145  83 126\n",
      " 144 137 150 142 224  75  37 162 116 131  99 108  92  49 164  68 111  98\n",
      " 157 112  80  79 123  52  85 148  53  55  78 132  58 135  46  84  39  38\n",
      "  90  41  65  64  71  47  70  67  57  81  82  40  62  73  74  45  72  42\n",
      "  66  32  28  34  97  18 120  54  36  24  61 127  59  25  29  35 128  27\n",
      "  33  16  63  31  17  26  19  15  13  22   7  20  48  44  30   8   9  21\n",
      "  10  14  23   6  11   4  12   3   5   2   1   0]\n"
     ]
    }
   ],
   "source": [
    "hierarquico = AgglomerativeClustering(\n",
    "    n_clusters = None,       #Numero de clusters\n",
    "    affinity = 'euclidean',  #Métrica que computa as distâncias\n",
    "    #memory = None,\n",
    "    connectivity = None,     #Define uma matriz de conectividade, no caso de querermos uma hierarquia estruturada\n",
    "    compute_full_tree = 'auto',  #Computa toda a árvore hierarquica, ou se em auto, para de computar após atingir o numero de clusters definido\n",
    "    linkage = 'ward',            #Critério de linkagem, que irá definir quais distancias usar entre cada ramificação\n",
    "    distance_threshold = 0,      #Distancia de linkagem até onde os clusters não serão unidos\n",
    "    compute_distances = False    #Computa as distâncias em um grafico de dendrograma\n",
    ")\n",
    "\n",
    "yhierarquico = hierarquico.fit_predict(df_chem_norma)\n",
    "print(yhierarquico)"
   ]
  },
  {
   "cell_type": "markdown",
   "id": "3627f0cd-acd6-452c-b0c6-2a991d62027f",
   "metadata": {},
   "source": [
    "#### Graficando os grupos formados por Dendrograma"
   ]
  },
  {
   "cell_type": "code",
   "execution_count": 6,
   "id": "7bfcdfd6-e83e-4165-bd81-5d882124dbdb",
   "metadata": {},
   "outputs": [
    {
     "data": {
      "image/png": "[encoded data removed]",
      "text/plain": [
       "<Figure size 1296x288 with 1 Axes>"
      ]
     },
     "metadata": {
      "needs_background": "light"
     },
     "output_type": "display_data"
    }
   ],
   "source": [
    "def plot_dendrogram(model, **kwargs):\n",
    "    \"\"\"Cria uma matriz de linkagem e plota o dendrograma\"\"\"\n",
    "\n",
    "    # Define a numeração da quantidade de nódulos de cada amostra\n",
    "    counts = np.zeros(model.children_.shape[0])\n",
    "    n_samples = len(model.labels_)\n",
    "    for i, merge in enumerate(model.children_):\n",
    "        current_count = 0\n",
    "        for child_idx in merge:\n",
    "            if child_idx < n_samples:\n",
    "                current_count += 1  # Nódulo das folhas\n",
    "            else:\n",
    "                current_count += counts[child_idx - n_samples]\n",
    "        counts[i] = current_count\n",
    "\n",
    "    linkage_matrix = np.column_stack(\n",
    "        [model.children_, model.distances_, counts]\n",
    "    ).astype(float)\n",
    "\n",
    "    # Plota o dendrograma correspondente\n",
    "    dendrogram(linkage_matrix, **kwargs)\n",
    "\n",
    "\n",
    "hierarquico_1 = hierarquico.fit(df_chem_norma)\n",
    "fig = plt.figure(figsize=(18, 4))\n",
    "plt.title(\"Hierarchical Clustering Dendrogram\")\n",
    "# Plota os 4 primeiros Componentes Principais\n",
    "plot_dendrogram(hierarquico_1, truncate_mode=\"level\", p=2)\n",
    "plt.xlabel(\"Número de pontos nos nódulos (ou o índice dos pontos sem parênteses).\")\n",
    "plt.ylabel(\"Nível de distância\")\n",
    "plt.show()"
   ]
  },
  {
   "cell_type": "markdown",
   "id": "c100ddaa-3e4c-40ec-b21e-5614afe2a889",
   "metadata": {},
   "source": [
    "Nesta primeira análise, foi definido o parâmetro p = 2 a fim de analisarmos apenas as 2 ramificações (agrupamentos) principais. É visivel pelo dendrograma, que o cluster de cor verde possui maior quantidade de dados, enquanto uma ramificação do agrupamento laranja possui apenas 14 dados. além disso, o agrupamento verde possui maior nível de distância do agrupamento geral (azul) ou seja, os dados deste agrupamento tem menor relação com os demais dados."
   ]
  },
  {
   "cell_type": "markdown",
   "id": "f89ad2aa-17d4-4e0e-a080-d5a8311fed76",
   "metadata": {},
   "source": [
    "### Análise de Componentes Principais do DataFrame (PCA)"
   ]
  },
  {
   "cell_type": "code",
   "execution_count": 7,
   "id": "48f19b21-4b2e-40b9-b0cc-4c62820ba82f",
   "metadata": {
    "tags": []
   },
   "outputs": [
    {
     "name": "stdout",
     "output_type": "stream",
     "text": [
      "[[ 0.34268347  0.55441658  0.36455745 -0.49340782 -0.47547067 -0.20786539]\n",
      " [-0.28738881 -0.08496878 -0.71623109 -0.63190259 -0.44050021 -0.02046882]\n",
      " [-0.92427077  1.70881583 -0.88098591  0.64527688  0.4749193  -0.31782664]\n",
      " ...\n",
      " [ 0.40961566 -0.29150617 -0.20492245 -0.61663841  0.09827302 -0.07099743]\n",
      " [ 0.10301581 -0.88614878  1.56989048  0.39953219 -0.58905549 -0.08808192]\n",
      " [ 0.17963852  0.30698893 -2.00078067 -0.40945517 -0.13088717 -0.15664271]]\n"
     ]
    }
   ],
   "source": [
    "pca = PCA()\n",
    "pca.fit(df_chem_norma)  #Fita o Dataframe\n",
    "df_chem_pca = pca.transform(df_chem_norma)  #Transforma o Dataframe fitado em um que contenha suas componentes principais\n",
    "print(df_chem_pca)"
   ]
  },
  {
   "cell_type": "code",
   "execution_count": 8,
   "id": "59dfc639-9263-4998-92b3-7128beb6a7ee",
   "metadata": {
    "tags": []
   },
   "outputs": [
    {
     "name": "stdout",
     "output_type": "stream",
     "text": [
      "[575 490 353 569 406 417 339 587 451 319 535 479 411 547 561 385 578 320\n",
      " 377 412 546 525 450 467 335 499 367 421 486 344 375 368 553 465 526 382\n",
      " 586 423 384 529 541 326 585 453 409 389 345 444 468 543 422 427 342 381\n",
      " 527 555 563 358 404 508 414 348 556 446 403 570 521 455 361 480 501 519\n",
      " 487 443 429 517 307 415 351 372 419 507 352 354 573 399 430 337 506 336\n",
      " 540 329 420 562 431 505 343 580 548 482 322 565 559 566 491 369 253 522\n",
      " 316 442 579 509 306 459 176 296 428 485 376 493 327 277 371 471 378 317\n",
      " 388 574 545 572 400 497 557 393 328 273 537 315 311 436 214 460 418 539\n",
      " 282 568 489 445 433 495 551 496 512 221 461 392 536 340 514 518 504 262\n",
      " 280 434 472 374 331 533 373 523 435 528 309 201 323 549 186 365 360 534\n",
      " 576 425 338 439 531 426 510 516 524 324 477 500 466 357 402 297 520 532\n",
      " 457 511 560 462 452 386 349 175 217 355 310 350 213 154 567 475 538 408\n",
      " 463 239 222 347 390  87 205 416 395 252 564 476 209 502 260 298 530 552\n",
      " 401 554 303 173 469 410 279 314 456 513 481 276 210 312 295 440 544 405\n",
      " 383 366 577 464 304 106 488 281 229 289 151 183 492 396 174 192 227 379\n",
      " 139 424 437 332 286 288 169 441 161 454 582 242 194 473 394 334 272 226\n",
      " 261 356 211 571 271 212 432 259 380 140 558 216 171 407 413 346 550 220\n",
      " 330 215 364 449 498 147 283 230 254 267 370 269 542 308 219 305 191 152\n",
      " 207 233 250 104 266 187 206 190 172 184 470 581 474 341 177 232 231 196\n",
      " 237 363 290 268 447 197 275 236 182 159 245 293 583 109 294 235 153 170\n",
      " 130 133 107  76 359 448 168 483 274 301 178 287 318 243 155 302 387 167\n",
      "  86 105 494 484 458 438 270 584 244 208 284 218 185 478 238 189 181  91\n",
      " 503 146 110 300 225 165 278 321 138 223 515 228 256 202 333 117 398 397\n",
      " 204  88 247 362 193 115  94 258 143 391 129 251 263 134 103 180 234  43\n",
      "  96 141 166 264 102  51 118 200 114 121 113 265 100 299 249 257 195 124\n",
      " 325 163 291 203  95 160 248 313 255 285 240 101 246 122 188 125  50 156\n",
      "  56  69 158 241 149 136 179 119  60  93  77 198 199  89 292 145  83 126\n",
      " 144 137 150 142 224  75  37 162 116 131  99 108  92  49 164  68 111  98\n",
      " 157 112  80  79 123  52  85 148  53  55  78 132  58 135  46  84  39  38\n",
      "  90  41  65  64  71  47  70  67  57  81  82  40  62  73  74  45  72  42\n",
      "  66  32  28  34  97  18 120  54  36  24  61 127  59  25  29  35 128  27\n",
      "  33  16  63  31  17  26  19  15  13  22   7  20  48  44  30   8   9  21\n",
      "  10  14  23   6  11   4  12   3   5   2   1   0]\n"
     ]
    }
   ],
   "source": [
    "hierarquico_pca = AgglomerativeClustering(\n",
    "    n_clusters = None,       #Numero de clusters\n",
    "    affinity = 'euclidean',  #Métrica que computa as distâncias\n",
    "    #memory = None,\n",
    "    connectivity = None,     #Define uma matriz de conectividade, no caso de querermos uma hierarquia estruturada\n",
    "    compute_full_tree = 'auto',  #Computa toda a árvore hierarquica, ou se em auto, para de computar após atingir o numero de clusters definido\n",
    "    linkage = 'ward',            #Critério de linkagem, que irá definir quais distancias usar entre cada ramificação\n",
    "    distance_threshold = 0,      #Distancia de linkagem até onde os clusters não serão unidos\n",
    "    compute_distances = False    #Computa as distâncias em um grafico de dendrograma\n",
    ")\n",
    "\n",
    "yhierarquico2 = hierarquico_pca.fit_predict(df_chem_pca)\n",
    "print(yhierarquico2)"
   ]
  },
  {
   "cell_type": "code",
   "execution_count": 9,
   "id": "dfd1d7e7-fb13-429b-b3e6-8817774021c6",
   "metadata": {},
   "outputs": [
    {
     "data": {
      "image/png": "[encoded data removed]",
      "text/plain": [
       "<Figure size 1296x288 with 1 Axes>"
      ]
     },
     "metadata": {
      "needs_background": "light"
     },
     "output_type": "display_data"
    }
   ],
   "source": [
    "hierarquico_2 = hierarquico_pca.fit(df_chem_pca)\n",
    "fig = plt.figure(figsize=(18, 4))\n",
    "plt.title(\"Hierarchical Clustering Dendrogram\")\n",
    "# Plota os 4 primeiros Componentes Principais\n",
    "plot_dendrogram(hierarquico_2, truncate_mode=\"level\", p=2)\n",
    "plt.xlabel(\"Número de pontos nos nódulos (ou o indice dos pontos sem parênteses)\")\n",
    "plt.ylabel(\"Nível de distância\")\n",
    "plt.show()"
   ]
  },
  {
   "cell_type": "markdown",
   "id": "88baa520-3fe5-4c10-a291-612317f0855d",
   "metadata": {},
   "source": [
    "Tivemos o mesmo resultado anterior, então vamos dobrar as ramificações"
   ]
  },
  {
   "cell_type": "code",
   "execution_count": 10,
   "id": "d5c36948-154e-4ffa-958a-b1a2990a3649",
   "metadata": {},
   "outputs": [
    {
     "data": {
      "image/png": "[encoded data removed]",
      "text/plain": [
       "<Figure size 1296x288 with 1 Axes>"
      ]
     },
     "metadata": {
      "needs_background": "light"
     },
     "output_type": "display_data"
    }
   ],
   "source": [
    "hierarquico_2 = hierarquico_pca.fit(df_chem_pca)\n",
    "fig = plt.figure(figsize=(18, 4))\n",
    "plt.title(\"Hierarchical Clustering Dendrogram\")\n",
    "# Plota os 4 primeiros Componentes Principais\n",
    "plot_dendrogram(hierarquico_2, truncate_mode=\"level\", p=4)\n",
    "plt.xlabel(\"Número de pontos nos nódulos(ou o índice do ponto sem parênteses).\")\n",
    "plt.ylabel(\"Nível de distância\")\n",
    "plt.show()"
   ]
  },
  {
   "cell_type": "markdown",
   "id": "4caf6ab5-bf5f-4074-9510-a3832df91bea",
   "metadata": {},
   "source": [
    "Nota-se que o gráfico dendrograma já nos dá as componentes principais do Dataframe, pois é o mesmo que com os dados sem terem sido fitados na função PCA.\n",
    "Aumentando a quantidade de ramificações dos agrupamentos, a mesma relação de maior quantidade de dados no agrupamento verde ainda é presente. Um ponto interessante é a última (visto da esquerda para direita) ramificação do cluster vermelho, que de possui 70 dados e apresenta uma das menores distância entre os clusters do cluster vermelho com o cluster azul (principal), mostrando que estes dados possuem grande relação com os demais."
   ]
  },
  {
   "cell_type": "markdown",
   "id": "e20ee762-5a9e-4037-a343-2c3c450dad70",
   "metadata": {},
   "source": [
    "### Comparativo: K-Means x Hierarchical Clustering"
   ]
  },
  {
   "cell_type": "markdown",
   "id": "53582882-0a68-4043-aa0e-cb0b17ad01dc",
   "metadata": {},
   "source": [
    "Tanto K-Means quanto Hierarchical Clustering são métodos para dividir o Dataset, porém por meios diferentes. Enquanto K-Means utiliza das médias dos valores, com base em círculos/esferas, de cada cluster e sua variância para identificar os grupo. Já o Hierarchical Clustering utiliza de minimzar as distâncias de \"linkage\" entre os dados e os as ramificações. Isso ocorre, principalmente, por meio da minimização da distância média entre pares de clusters, minimização da distância máxima entre pares de clusters e a minimização da distância mais perto entre pares de clusters.\n",
    "Em linhas gerais, o K-Means necessita de um conhecimento prévio do Dataset, uma vez que é a base para definir o \"K\"; normalmente menos intenso computacionalmente (melhor para tratar grandes datasets); caso iniciar com um número randômico de clusters, os resultados podem mudar na possibilidade de rodar o algoritmo mais de uma vez; lida muito bem com \"dados esféricos/circulares\"; nota-se que o valor de \"K\" é normalmente difícil de prever. Já no Hierárquico os clusters estão aninhados, de modo que o processo tem início com 'n' clusters, que se combinam (somente se similares) para formar um único cluster no fim; os resultados são altamente reprodutíveis; não funcionam tão bem quanto K-Means para \"dados esféricos/circulares\"; aplicável a qualquer tipo de atributo; necessita de armazenar uma matriz nxn dados, o que é altamente desvantajoso para datasets muito grandes; é possível parar em quaisquer número de clusters.\n",
    "\n",
    "Para essa análise, o Hirárquico parece ser um modelo mais eficiente em clusterização, uma vez que depende de distâncias por \"linkage\" e não distâncias por meio de círculos/esferas (nota-se que os dados não são circulares e nem esféricos)."
   ]
  },
  {
   "cell_type": "code",
   "execution_count": null,
   "id": "ac2d9e4b-ffaa-4627-b36d-1e2f53516212",
   "metadata": {},
   "outputs": [],
   "source": []
  }
 ],
 "metadata": {
  "kernelspec": {
   "display_name": "ilumpy",
   "language": "python",
   "name": "ilumpy"
  },
  "language_info": {
   "codemirror_mode": {
    "name": "ipython",
    "version": 3
   },
   "file_extension": ".py",
   "mimetype": "text/x-python",
   "name": "python",
   "nbconvert_exporter": "python",
   "pygments_lexer": "ipython3",
   "version": "3.9.7"
  }
 },
 "nbformat": 4,
 "nbformat_minor": 5
}
