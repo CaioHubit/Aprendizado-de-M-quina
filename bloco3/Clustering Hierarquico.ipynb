{
 "cells": [
  {
   "cell_type": "markdown",
   "id": "3666e0a2-09b8-4fea-946e-f0fd1606182f",
   "metadata": {},
   "source": [
    "# Método de Clustering Hierárquico"
   ]
  },
  {
   "cell_type": "markdown",
   "id": "ffb912fe-1af6-411c-a402-3b88da4f1f89",
   "metadata": {},
   "source": [
    "#### Este método de agrupamento de dados consiste em unir pares de dados usando uma distância de linkagem. A análise gráfica foi realisada pela plotagem de um dendrograma. Um dendrograma é uma estrutura em formato de árvore, que explica a relação entre cada ponto de dado de um Dataset"
   ]
  },
  {
   "cell_type": "code",
   "execution_count": 1,
   "id": "48bab637-3756-467e-afb8-4d9683a9f54c",
   "metadata": {},
   "outputs": [
    {
     "name": "stdout",
     "output_type": "stream",
     "text": [
      "     Mohs Hardness  Specific Gravity  Refractive Index  Molar Mass  \\\n",
      "0             4.50             3.240             1.580  817.339002   \n",
      "1             2.75             3.446             1.592  435.069330   \n",
      "2             2.00             4.420             2.085  921.092220   \n",
      "4             5.50             1.050             1.634  861.185368   \n",
      "5             3.50             3.295             1.457  225.618151   \n",
      "..             ...               ...               ...         ...   \n",
      "803           7.50             4.650             1.928  526.041800   \n",
      "805           6.50             3.230             1.702  379.378178   \n",
      "806           3.50             2.180             1.590  492.887716   \n",
      "807           7.00             3.411             1.596  263.580584   \n",
      "808           0.00             3.146             1.633  576.801907   \n",
      "\n",
      "     Molar Volume  Calculated Density  Calculated Density  \n",
      "0        0.123390               5.498               5.498  \n",
      "1        0.056083               6.439               6.439  \n",
      "2        0.122631               6.234               6.234  \n",
      "4        0.112074               6.378               6.378  \n",
      "5        0.044887               4.172               4.172  \n",
      "..            ...                 ...                 ...  \n",
      "803      0.078468               5.564               5.564  \n",
      "805      0.100890               3.121               3.121  \n",
      "806      0.078566               5.207               5.207  \n",
      "807      0.089458               2.446               2.446  \n",
      "808      0.078605               6.091               6.091  \n",
      "\n",
      "[588 rows x 7 columns]\n"
     ]
    }
   ],
   "source": [
    "#Importação das bibliotecas\n",
    "import pandas as pd\n",
    "from sklearn.model_selection import train_test_split\n",
    "from sklearn.datasets import make_moons, make_blobs\n",
    "from sklearn.preprocessing import MinMaxScaler\n",
    "from sklearn.decomposition import PCA\n",
    "from sklearn.ensemble import IsolationForest\n",
    "import seaborn as sns\n",
    "import matplotlib.pyplot as plt\n",
    "import numpy as np\n",
    "from sklearn.preprocessing import StandardScaler\n",
    "from sklearn.cluster import AgglomerativeClustering\n",
    "from sklearn.metrics.pairwise import pairwise_distances_argmin\n",
    "from scipy.cluster.hierarchy import dendrogram\n",
    "\n",
    "#criando o DataFrame \"df_chem\"\n",
    "df = pd.read_csv(\"Minerals_Database3.csv\")  # Importação do dataset para ser utilizado como dataframe\n",
    "# Remoção de colunas não necessárias para o dataframe\n",
    "\n",
    "df = df.drop(['A'], axis=1)\n",
    "df = df.drop(['Name'], axis=1)\n",
    "\n",
    "dados_cat = df.reindex(df.columns[[0,2,4]], axis = 1) # Remoção de dados categóricos\n",
    "dados_categoricos = dados_cat.astype(\"category\") # Tratamento de dados para o tipo categórico\n",
    "newlist = [x for x in range(7,135)] # Range para pegarmos dados que estão em porcentagem\n",
    "porcent_df = df.reindex(df.columns[newlist], axis = 1) # Coleta dos dados de elementos em porcentagem\n",
    "df_chem = df.reindex(df.columns[[1,3,5,135,136,137,137]], axis=1) # Reindexação de um dataframe contendo apenas propriedades fisico-químicas\n",
    "df_chem\n",
    "df_chem, dados_categoricos\n",
    "\n",
    "df_remove=df_chem.loc[(df[\"Refractive Index\"] == 0.000)]\n",
    "\n",
    "df_chem = df_chem.drop(df_remove.index)\n",
    "print(df_chem)"
   ]
  },
  {
   "cell_type": "markdown",
   "id": "cc9ab020-e278-49db-ad19-983b3de3bfed",
   "metadata": {},
   "source": [
    "#### Reindexação do Dataframe, e definição de atributos e alvo"
   ]
  },
  {
   "cell_type": "code",
   "execution_count": 2,
   "id": "625c48b5-2747-45c5-a8b4-ffbd2d1758c3",
   "metadata": {},
   "outputs": [],
   "source": [
    "nome = 'df_chem'\n",
    "atributos = [\"Specific Gravity\", \"Mohs Hardness\", 'Molar Mass', 'Molar Volume', 'Calculated Density']\n",
    "target = [\"Refractive Index\"]\n",
    "#df_chem_r2 = df_chem.reindex(atributos, axis=1)"
   ]
  },
  {
   "cell_type": "markdown",
   "id": "44d32777-5f85-4197-a91c-1b41273e6367",
   "metadata": {},
   "source": [
    "#### Escalonamento padrão do Dataframe"
   ]
  },
  {
   "cell_type": "code",
   "execution_count": 3,
   "id": "5b3cb836-061f-4158-b054-00dc32eed63f",
   "metadata": {},
   "outputs": [],
   "source": [
    "sc = StandardScaler() #Função que escalona\n",
    "sc.fit(df_chem)     #Fit dos dados escalonados\n",
    "df_chem_norma = sc.transform(df_chem)"
   ]
  },
  {
   "cell_type": "code",
   "execution_count": 11,
   "id": "c774b0eb-a069-4748-8298-b1849c130230",
   "metadata": {},
   "outputs": [
    {
     "name": "stdout",
     "output_type": "stream",
     "text": [
      "[[ 0.31604369  0.11090477 -0.55014037 ...  0.23546097  0.26051248\n",
      "   0.26051248]\n",
      " [-0.57569712  0.24368401 -0.50042672 ... -0.42196401  0.60854766\n",
      "   0.60854766]\n",
      " [-0.95787176  0.87148485  1.54197547 ...  0.22805018  0.53272704\n",
      "   0.53272704]\n",
      " ...\n",
      " [-0.19352249 -0.57232818 -0.50871233 ... -0.20236363  0.15288418\n",
      "   0.15288418]\n",
      " [ 1.58995914  0.22112443 -0.48385551 ... -0.09597107 -0.86829024\n",
      "  -0.86829024]\n",
      " [-1.97700411  0.05031619 -0.33057178 ... -0.20198016  0.47983752\n",
      "   0.47983752]]\n"
     ]
    }
   ],
   "source": [
    "print(df_chem_norma)"
   ]
  },
  {
   "cell_type": "markdown",
   "id": "e58913ab-1b05-47e0-a517-bb6667a779ee",
   "metadata": {},
   "source": [
    "#### Definição do método Hierárquico e seus atributos"
   ]
  },
  {
   "cell_type": "code",
   "execution_count": 4,
   "id": "0678144c-dd8e-45e7-948e-1a451d507e60",
   "metadata": {
    "collapsed": true,
    "jupyter": {
     "outputs_hidden": true
    },
    "tags": []
   },
   "outputs": [
    {
     "name": "stdout",
     "output_type": "stream",
     "text": [
      "[385 496 403 459 417 408 363 586 469 423 457 527 413 541 536 393 568 303\n",
      " 341 419 556 543 462 495 353 516 427 429 491 362 371 338 540 437 533 394\n",
      " 587 361 388 542 500 460 302 307 407 360 479 404 356 405 430 412 559 318\n",
      " 539 552 521 350 399 522 422 364 557 466 431 574 553 476 269 494 509 294\n",
      " 531 375 435 544 315 439 367 316 428 525 387 382 576 201 425 357 519 293\n",
      " 530 319 445 564 349 534 395 580 271 440 344 567 247 529 443 146 505 515\n",
      " 411 441 551 518 320 480 373 369 426 461 442 213 159 299 379 486 558 571\n",
      " 390 296 563 575 317 239 554 398 348 276 275 327 310 446 433 465 415 546\n",
      " 478 569 499 452 549 323 270 503 526 475 400 389 517 337 174 397 485 134\n",
      " 336 450 507 359 370 547 354 561 355 528 333 406 311 278 470 184 335 550\n",
      " 572 432 242 579 560 198 279 498 538 177 396 322 237 304 410 220 266 263\n",
      " 368 260 562 455 374 380 365 535 418 583 328 366 570 158 284 473 151 332\n",
      " 449 472 208 313 347 183 471 416 420 456 280 573 309 492 504 258 401 484\n",
      " 585 189 330 343 454 514 281 510 555 501 222 277 421 329 402 458 264 502\n",
      " 202 257 436 464 298 217 497 565 199 289 545 168 508 477 137 197 481 287\n",
      " 228 283 314 230 577 578 513 194 326 345 584 248 210 487 164 334 291 176\n",
      " 537 193 212 285 548 312 438 523 376 308 346 448 182 295 381 424 272 138\n",
      " 268 520 173 141 511 157 207 482 163 488 224 512 267 227 229 325 331 358\n",
      " 249 489 524 100 506 305 581 342 219 187 238 566 186 209 372 240 384 251\n",
      " 306  91 444 259 391 297 148 190 324 532 474 483 292 113 155 179 172 203\n",
      " 245 274 434 147 378 114 185 490 131 386 467 282  68 463 286 156  56 181\n",
      " 171 221 250 241 235 236 301 582 244 214 142 162 145 117 447 377  85 273\n",
      " 493 300 321 223 468 167 290  86 139 453 254 253 261  92 104 234  98 178\n",
      " 211 265 243  77 140 166 339 124 135 383 233 103 262 152 105 200 218  42\n",
      " 232 154 246  75 205 118 123 153 256 451 110 132  78 136 255 392 409  67\n",
      " 165 351  76 160 196  83 352 414  99  69 128 206 126 252  96 127  88 175\n",
      " 225  73 130 204  38 226 231 120 122  45  61 125 195  70 108  72 340 192\n",
      " 144 170  37 133 180 119  79 288 101 129 102 109 121  50 191 150 116  95\n",
      "  58 115  89 161  97  66 106 112 216 188  57 149 215 111  48  47  34  63\n",
      "  49  64  60 143  74 107  90  87  59  52  31  43  33  65  23  81  51  55\n",
      "  94 169  29  62  71  93  25  80  30  53  44  54  39  14  84  82  16  28\n",
      "  41  26  32  36  40  18  27  46  13  20  15  35  24  19   7  11   9  22\n",
      "  21   6  17  12  10   4   5   8   3   2   1   0]\n"
     ]
    }
   ],
   "source": [
    "hierarquico = AgglomerativeClustering(\n",
    "    n_clusters = None,       #Numero de clusters\n",
    "    affinity = 'euclidean',  #Métrica que computa as distâncias\n",
    "    #memory = None,\n",
    "    connectivity = None,     #Define uma matriz de conectividade, no caso de querermos uma hierarquia estruturada\n",
    "    compute_full_tree = 'auto',  #Computa toda a árvore hierarquica, ou se em auto, para de computar após atingir o numero de clusters definido\n",
    "    linkage = 'ward',            #Critério de linkagem, que irá definir quais distancias usar entre cada ramificação\n",
    "    distance_threshold = 0,      #Distancia de linkagem até onde os clusters não serão unidos\n",
    "    compute_distances = False    #Computa as distâncias em um grafico de dendrograma\n",
    ")\n",
    "\n",
    "yhierarquico = hierarquico.fit_predict(df_chem_norma)\n",
    "print(yhierarquico)"
   ]
  },
  {
   "cell_type": "markdown",
   "id": "3627f0cd-acd6-452c-b0c6-2a991d62027f",
   "metadata": {},
   "source": [
    "#### Graficando os grupos formados por Dendrograma"
   ]
  },
  {
   "cell_type": "code",
   "execution_count": 14,
   "id": "7bfcdfd6-e83e-4165-bd81-5d882124dbdb",
   "metadata": {},
   "outputs": [
    {
     "data": {
      "image/png": "[encoded data removed]",
      "text/plain": [
       "<Figure size 432x288 with 1 Axes>"
      ]
     },
     "metadata": {
      "needs_background": "light"
     },
     "output_type": "display_data"
    }
   ],
   "source": [
    "def plot_dendrogram(model, **kwargs):\n",
    "    \"\"\"Cria uma matriz de linkagem e plota o dendrograma\"\"\"\n",
    "\n",
    "    # Define a numeração da quantidade de nódulos de cada amostra\n",
    "    counts = np.zeros(model.children_.shape[0])\n",
    "    n_samples = len(model.labels_)\n",
    "    for i, merge in enumerate(model.children_):\n",
    "        current_count = 0\n",
    "        for child_idx in merge:\n",
    "            if child_idx < n_samples:\n",
    "                current_count += 1  # Nódulo das folhas\n",
    "            else:\n",
    "                current_count += counts[child_idx - n_samples]\n",
    "        counts[i] = current_count\n",
    "\n",
    "    linkage_matrix = np.column_stack(\n",
    "        [model.children_, model.distances_, counts]\n",
    "    ).astype(float)\n",
    "\n",
    "    # Plota o dendrograma correspondente\n",
    "    dendrogram(linkage_matrix, **kwargs)\n",
    "\n",
    "\n",
    "hierarquico_1 = hierarquico.fit(df_chem_norma)\n",
    "plt.title(\"Hierarchical Clustering Dendrogram\")\n",
    "# Plota os 4 primeiros Componentes Principais\n",
    "plot_dendrogram(hierarquico_1, truncate_mode=\"level\", p=2)\n",
    "plt.xlabel(\"Número de pontos nos nódulos (ou o índice dos pontos sem parênteses).\")\n",
    "plt.ylabel(\"Nível de distância\")\n",
    "plt.show()"
   ]
  },
  {
   "cell_type": "markdown",
   "id": "f89ad2aa-17d4-4e0e-a080-d5a8311fed76",
   "metadata": {},
   "source": [
    "### Análise de Componentes Principais do DataFrame (PCA)"
   ]
  },
  {
   "cell_type": "code",
   "execution_count": 10,
   "id": "48f19b21-4b2e-40b9-b0cc-4c62820ba82f",
   "metadata": {
    "collapsed": true,
    "jupyter": {
     "outputs_hidden": true
    },
    "tags": []
   },
   "outputs": [
    {
     "name": "stdout",
     "output_type": "stream",
     "text": [
      "[[ 7.00923272e-02  7.16037385e-01  1.40586738e-01 ... -4.82165856e-01\n",
      "  -2.31554278e-01  1.36002321e-15]\n",
      " [ 6.39034248e-01 -1.34451079e-02 -9.41143236e-01 ... -4.48799374e-01\n",
      "  -4.58124852e-02  8.88178420e-16]\n",
      " [ 1.41212458e+00  1.14738403e+00 -1.49301953e-01 ...  4.77363102e-01\n",
      "  -3.28047717e-01  0.00000000e+00]\n",
      " ...\n",
      " [-2.28358354e-01  1.50200167e-02 -5.59259096e-01 ...  9.13104797e-02\n",
      "  -9.12327230e-02 -2.08166817e-16]\n",
      " [-8.95984541e-01 -9.68071921e-01  1.50407665e+00 ... -5.82257441e-01\n",
      "  -6.42893352e-02  1.11022302e-15]\n",
      " [ 3.20021994e-01  5.25102361e-01 -1.95862333e+00 ... -1.38267962e-01\n",
      "  -1.84295916e-01  6.10622664e-16]]\n"
     ]
    }
   ],
   "source": [
    "pca = PCA()\n",
    "pca.fit(df_chem_norma)  #Fita o Dataframe\n",
    "df_chem_pca = pca.transform(df_chem_norma)  #Transforma o Dataframe fitado em um que contenha suas componentes principais\n",
    "print(df_chem_pca)"
   ]
  },
  {
   "cell_type": "code",
   "execution_count": 7,
   "id": "59dfc639-9263-4998-92b3-7128beb6a7ee",
   "metadata": {
    "collapsed": true,
    "jupyter": {
     "outputs_hidden": true
    },
    "tags": []
   },
   "outputs": [
    {
     "name": "stdout",
     "output_type": "stream",
     "text": [
      "[385 496 403 459 417 408 363 586 469 423 457 527 413 541 536 393 568 303\n",
      " 341 419 556 543 462 495 353 516 427 429 491 362 371 338 540 437 533 394\n",
      " 587 361 388 542 500 460 302 307 407 360 479 404 356 405 430 412 559 318\n",
      " 539 552 521 350 399 522 422 364 557 466 431 574 553 476 269 494 509 294\n",
      " 531 375 435 544 315 439 367 316 428 525 387 382 576 201 425 357 519 293\n",
      " 530 319 445 564 349 534 395 580 271 440 344 567 247 529 443 146 505 515\n",
      " 411 441 551 518 320 480 373 369 426 461 442 213 159 299 379 486 558 571\n",
      " 390 296 563 575 317 239 554 398 348 276 275 327 310 446 433 465 415 546\n",
      " 478 569 499 452 549 323 270 503 526 475 400 389 517 337 174 397 485 134\n",
      " 336 450 507 359 370 547 354 561 355 528 333 406 311 278 470 184 335 550\n",
      " 572 432 242 579 560 198 279 498 538 177 396 322 237 304 410 220 266 263\n",
      " 368 260 562 455 374 380 365 535 418 583 328 366 570 158 284 473 151 332\n",
      " 449 472 208 313 347 183 471 416 420 456 280 573 309 492 504 258 401 484\n",
      " 585 189 330 343 454 514 281 510 555 501 222 277 421 329 402 458 264 502\n",
      " 202 257 436 464 298 217 497 565 199 289 545 168 508 477 137 197 481 287\n",
      " 228 283 314 230 577 578 513 194 326 345 584 248 210 487 164 334 291 176\n",
      " 537 193 212 285 548 312 438 523 376 308 346 448 182 295 381 424 272 138\n",
      " 268 520 173 141 511 157 207 482 163 488 224 512 267 227 229 325 331 358\n",
      " 249 489 524 100 506 305 581 342 219 187 238 566 186 209 372 240 384 251\n",
      " 306  91 444 259 391 297 148 190 324 532 474 483 292 113 155 179 172 203\n",
      " 245 274 434 147 378 114 185 490 131 386 467 282  68 463 286 156  56 181\n",
      " 171 221 250 241 235 236 301 582 244 214 142 162 145 117 447 377  85 273\n",
      " 493 300 321 223 468 167 290  86 139 453 254 253 261  92 104 234  98 178\n",
      " 211 265 243  77 140 166 339 124 135 383 233 103 262 152 105 200 218  42\n",
      " 232 154 246  75 205 118 123 153 256 451 110 132  78 136 255 392 409  67\n",
      " 165 351  76 160 196  83 352 414  99  69 128 206 126 252  96 127  88 175\n",
      " 225  73 130 204  38 226 231 120 122  45  61 125 195  70 108  72 340 192\n",
      " 144 170  37 133 180 119  79 288 101 129 102 109 121  50 191 150 116  95\n",
      "  58 115  89 161  97  66 106 112 216 188  57 149 215 111  48  47  34  63\n",
      "  49  64  60 143  74 107  90  87  59  52  31  43  33  65  23  81  51  55\n",
      "  94 169  29  62  71  93  25  80  30  53  44  54  39  14  84  82  16  28\n",
      "  41  26  32  36  40  18  27  46  13  20  15  35  24  19   7  11   9  22\n",
      "  21   6  17  12  10   4   5   8   3   2   1   0]\n"
     ]
    }
   ],
   "source": [
    "hierarquico_pca = AgglomerativeClustering(\n",
    "    n_clusters = None,       #Numero de clusters\n",
    "    affinity = 'euclidean',  #Métrica que computa as distâncias\n",
    "    #memory = None,\n",
    "    connectivity = None,     #Define uma matriz de conectividade, no caso de querermos uma hierarquia estruturada\n",
    "    compute_full_tree = 'auto',  #Computa toda a árvore hierarquica, ou se em auto, para de computar após atingir o numero de clusters definido\n",
    "    linkage = 'ward',            #Critério de linkagem, que irá definir quais distancias usar entre cada ramificação\n",
    "    distance_threshold = 0,      #Distancia de linkagem até onde os clusters não serão unidos\n",
    "    compute_distances = False    #Computa as distâncias em um grafico de dendrograma\n",
    ")\n",
    "\n",
    "yhierarquico2 = hierarquico_pca.fit_predict(df_chem_pca)\n",
    "print(yhierarquico2)"
   ]
  },
  {
   "cell_type": "code",
   "execution_count": 13,
   "id": "dfd1d7e7-fb13-429b-b3e6-8817774021c6",
   "metadata": {},
   "outputs": [
    {
     "data": {
      "image/png": "[encoded data removed]",
      "text/plain": [
       "<Figure size 432x288 with 1 Axes>"
      ]
     },
     "metadata": {
      "needs_background": "light"
     },
     "output_type": "display_data"
    }
   ],
   "source": [
    "hierarquico_2 = hierarquico_pca.fit(df_chem_pca)\n",
    "plt.title(\"Hierarchical Clustering Dendrogram\")\n",
    "# Plota os 4 primeiros Componentes Principais\n",
    "plot_dendrogram(hierarquico_2, truncate_mode=\"level\", p=2)\n",
    "plt.xlabel(\"Número de pontos nos nódulos (ou o indice dos pontos sem parênteses)\")\n",
    "plt.ylabel(\"Nível de distância\")\n",
    "plt.show()"
   ]
  },
  {
   "cell_type": "code",
   "execution_count": 12,
   "id": "d5c36948-154e-4ffa-958a-b1a2990a3649",
   "metadata": {},
   "outputs": [
    {
     "data": {
      "image/png": "[encoded data removed]",
      "text/plain": [
       "<Figure size 432x288 with 1 Axes>"
      ]
     },
     "metadata": {
      "needs_background": "light"
     },
     "output_type": "display_data"
    }
   ],
   "source": [
    "hierarquico_2 = hierarquico_pca.fit(df_chem_pca)\n",
    "plt.title(\"Hierarchical Clustering Dendrogram\")\n",
    "# Plota os 4 primeiros Componentes Principais\n",
    "plot_dendrogram(hierarquico_2, truncate_mode=\"level\", p=4)\n",
    "plt.xlabel(\"Número de pontos nos nódulos(ou o índice do ponto sem parênteses).\")\n",
    "plt.ylabel(\"Nível de distância\")\n",
    "plt.show()"
   ]
  },
  {
   "cell_type": "markdown",
   "id": "4caf6ab5-bf5f-4074-9510-a3832df91bea",
   "metadata": {},
   "source": [
    "Nota-se que o gráfico dendrograma já nos dá as componentes principais do Dataframe, pois é o mesmo que com os dados sem terem sido fitados na função PCA.\n",
    "Vemos que grande parte dos dados está mais a "
   ]
  },
  {
   "cell_type": "code",
   "execution_count": null,
   "id": "6772befa-234c-4faa-93bf-20a65550171d",
   "metadata": {},
   "outputs": [],
   "source": []
  },
  {
   "cell_type": "code",
   "execution_count": null,
   "id": "4dd2bd19-e750-4a4a-b1ed-591f96fd7225",
   "metadata": {},
   "outputs": [],
   "source": []
  }
 ],
 "metadata": {
  "kernelspec": {
   "display_name": "ilumpy",
   "language": "python",
   "name": "ilumpy"
  },
  "language_info": {
   "codemirror_mode": {
    "name": "ipython",
    "version": 3
   },
   "file_extension": ".py",
   "mimetype": "text/x-python",
   "name": "python",
   "nbconvert_exporter": "python",
   "pygments_lexer": "ipython3",
   "version": "3.9.7"
  }
 },
 "nbformat": 4,
 "nbformat_minor": 5
}
